{
 "cells": [
  {
   "cell_type": "markdown",
   "id": "8b782ef2",
   "metadata": {
    "papermill": {
     "duration": 0.020157,
     "end_time": "2022-07-16T17:53:41.932206",
     "exception": false,
     "start_time": "2022-07-16T17:53:41.912049",
     "status": "completed"
    },
    "tags": []
   },
   "source": [
    "<p style=\"color:#1B2430;background-color:#C689C6;text-align:center;border-radius:10px 10px;font-weight:bold;font-size:22px\"> 🏘️ Airbnb Listings EDA Plotly & Seaborn! 🏘️<span style='font-size:28px; background-color:#FFF9D7 ;'></span></p>\n",
    "\n",
    "<center><img src=\"https://miro.medium.com/max/1400/0*NChTo-XqLOxLabIW\" \n",
    "             style='border-radius:10px'></center>"
   ]
  },
  {
   "cell_type": "markdown",
   "id": "3685b51a",
   "metadata": {
    "papermill": {
     "duration": 0.019486,
     "end_time": "2022-07-16T17:53:41.971257",
     "exception": false,
     "start_time": "2022-07-16T17:53:41.951771",
     "status": "completed"
    },
    "tags": []
   },
   "source": [
    "# Table Of Contents\n",
    "\n",
    "## [<b>1. INTRODUCTION</b>](#1)\n",
    "## [<b>2. Load & Explore Airbnb Dataset</b>](#2)\n",
    "## [<b>3. Preprocessing Airbnb Dataset</b>](#3)\n",
    "## [<b>4. EDA Airbnb Dataset One</b>](#4)\n",
    "## [<b>5. EDA Airbnb Dataset Two</b>](#5)\n",
    "## [<b>6. To be Continued!</b>](#6)\n",
    "\n",
    "\n"
   ]
  },
  {
   "cell_type": "markdown",
   "id": "2dc9ca4c",
   "metadata": {
    "papermill": {
     "duration": 0.021458,
     "end_time": "2022-07-16T17:53:42.012503",
     "exception": false,
     "start_time": "2022-07-16T17:53:41.991045",
     "status": "completed"
    },
    "tags": []
   },
   "source": [
    "<a id=\"1\"></a> \n",
    "\n",
    "# <b>1 <span style='color:#FE5F64'>|</span> INTRODUCTION</b>\n",
    "\n",
    "## <b>1.1 <span style='color:#FE5F64'>|</span> About Dataset</b>\n",
    "This dataset provides data of Airbnb listings in the capital of Scotland, Edinburgh, for a period of one year, from 25 June 2019 to 24 June 2020.\n",
    "\n",
    "The dataset contains 12 files, 2 of which are original and the rest 10 are processed. The original data are uncleaned web-scraped data, which can be used for data cleaning, data engineering, exploratory data analysis (EDA), followed by any algorithms a user finds suitable. On the other hand, the preprocessed data are provided for users who want to quickly run some regression algorithms without spending time on other aspects of a project.\n",
    "\n",
    "## <b>1.1 <span style='color:#FE5F64'>|</span> Original Data</b>\n",
    "Select your features, clean your data, then EDA or applying algorithms you find suitable.\n",
    "\n",
    "**original_data_listings.csv (13,245 rows, 106 columns)**\n",
    "* Contains data about 13245 properties listed on Airbnb for the period of data collection. 106 fields about the listings are provided, such as the number of bedrooms, neighbourhood, cancellation policy,   cleaning fee (averaged over the period of data collection as hosts can change how much they charge for cleaning), etc.\n",
    "\n",
    "**Original_data_calendar.csv (4,834,568 rows, 7 columns)**\n",
    "* Contains the status data of each property on each day over the period of data collection, such as, on a given date, whether the property was occupied and the price per night.\n"
   ]
  },
  {
   "cell_type": "markdown",
   "id": "ee2a77d6",
   "metadata": {
    "papermill": {
     "duration": 0.019714,
     "end_time": "2022-07-16T17:53:42.052253",
     "exception": false,
     "start_time": "2022-07-16T17:53:42.032539",
     "status": "completed"
    },
    "tags": []
   },
   "source": [
    "<a id=\"2\"></a> \n",
    "# <b>2 <span style='color:#FE5F64'>|</span> Load & Explore Airbnb Dataset</b>"
   ]
  },
  {
   "cell_type": "code",
   "execution_count": 1,
   "id": "0d6a7726",
   "metadata": {
    "execution": {
     "iopub.execute_input": "2022-07-16T17:53:42.093171Z",
     "iopub.status.busy": "2022-07-16T17:53:42.092791Z",
     "iopub.status.idle": "2022-07-16T17:53:44.572521Z",
     "shell.execute_reply": "2022-07-16T17:53:44.571509Z"
    },
    "papermill": {
     "duration": 2.503201,
     "end_time": "2022-07-16T17:53:44.574875",
     "exception": false,
     "start_time": "2022-07-16T17:53:42.071674",
     "status": "completed"
    },
    "tags": []
   },
   "outputs": [],
   "source": [
    "import os\n",
    "import pandas as pd\n",
    "import numpy as np\n",
    "import matplotlib.pyplot as plt \n",
    "import seaborn as sns \n",
    "import plotly.express as px\n",
    "import plotly.io as pio\n",
    "\n",
    "import warnings\n",
    "warnings.simplefilter(action='ignore', category=FutureWarning)"
   ]
  },
  {
   "cell_type": "code",
   "execution_count": 2,
   "id": "b9141ac6",
   "metadata": {
    "execution": {
     "iopub.execute_input": "2022-07-16T17:53:44.600480Z",
     "iopub.status.busy": "2022-07-16T17:53:44.600024Z",
     "iopub.status.idle": "2022-07-16T17:53:49.340782Z",
     "shell.execute_reply": "2022-07-16T17:53:49.339560Z"
    },
    "papermill": {
     "duration": 4.756779,
     "end_time": "2022-07-16T17:53:49.343574",
     "exception": false,
     "start_time": "2022-07-16T17:53:44.586795",
     "status": "completed"
    },
    "tags": []
   },
   "outputs": [],
   "source": [
    "air_data_cal = pd.read_csv('../input/edinburgh-airbnb-data/original_data_calendar.csv')"
   ]
  },
  {
   "cell_type": "code",
   "execution_count": 3,
   "id": "f547aad7",
   "metadata": {
    "execution": {
     "iopub.execute_input": "2022-07-16T17:53:49.370317Z",
     "iopub.status.busy": "2022-07-16T17:53:49.369935Z",
     "iopub.status.idle": "2022-07-16T17:53:50.463193Z",
     "shell.execute_reply": "2022-07-16T17:53:50.462083Z"
    },
    "papermill": {
     "duration": 1.109139,
     "end_time": "2022-07-16T17:53:50.465359",
     "exception": false,
     "start_time": "2022-07-16T17:53:49.356220",
     "status": "completed"
    },
    "tags": []
   },
   "outputs": [],
   "source": [
    "air_data_listings  = pd.read_csv('../input/edinburgh-airbnb-data/origianl_data_listings.csv', \n",
    "                                 usecols = ['id','name', 'host_id', 'host_name', 'neighbourhood_group_cleansed', 'neighbourhood', 'latitude', 'longitude', 'room_type', 'price', 'minimum_nights', \n",
    "                                           'number_of_reviews', 'last_review', 'reviews_per_month', 'calculated_host_listings_count', 'host_identity_verified', 'street', 'city', 'state',\n",
    "                                           'market', 'accommodates', 'review_scores_rating'], low_memory=False)"
   ]
  },
  {
   "cell_type": "code",
   "execution_count": 4,
   "id": "cff71e3c",
   "metadata": {
    "execution": {
     "iopub.execute_input": "2022-07-16T17:53:50.491009Z",
     "iopub.status.busy": "2022-07-16T17:53:50.490635Z",
     "iopub.status.idle": "2022-07-16T17:53:50.513977Z",
     "shell.execute_reply": "2022-07-16T17:53:50.512757Z"
    },
    "papermill": {
     "duration": 0.039802,
     "end_time": "2022-07-16T17:53:50.517033",
     "exception": false,
     "start_time": "2022-07-16T17:53:50.477231",
     "status": "completed"
    },
    "tags": []
   },
   "outputs": [
    {
     "data": {
      "text/html": [
       "<div>\n",
       "<style scoped>\n",
       "    .dataframe tbody tr th:only-of-type {\n",
       "        vertical-align: middle;\n",
       "    }\n",
       "\n",
       "    .dataframe tbody tr th {\n",
       "        vertical-align: top;\n",
       "    }\n",
       "\n",
       "    .dataframe thead th {\n",
       "        text-align: right;\n",
       "    }\n",
       "</style>\n",
       "<table border=\"1\" class=\"dataframe\">\n",
       "  <thead>\n",
       "    <tr style=\"text-align: right;\">\n",
       "      <th></th>\n",
       "      <th>listing_id</th>\n",
       "      <th>date</th>\n",
       "      <th>available</th>\n",
       "      <th>price</th>\n",
       "      <th>adjusted_price</th>\n",
       "      <th>minimum_nights</th>\n",
       "      <th>maximum_nights</th>\n",
       "    </tr>\n",
       "  </thead>\n",
       "  <tbody>\n",
       "    <tr>\n",
       "      <th>0</th>\n",
       "      <td>568026</td>\n",
       "      <td>2019-06-25</td>\n",
       "      <td>f</td>\n",
       "      <td>$64.00</td>\n",
       "      <td>$64.00</td>\n",
       "      <td>3.0</td>\n",
       "      <td>60.0</td>\n",
       "    </tr>\n",
       "    <tr>\n",
       "      <th>1</th>\n",
       "      <td>327159</td>\n",
       "      <td>2019-06-25</td>\n",
       "      <td>t</td>\n",
       "      <td>$113.00</td>\n",
       "      <td>$113.00</td>\n",
       "      <td>1.0</td>\n",
       "      <td>1.0</td>\n",
       "    </tr>\n",
       "    <tr>\n",
       "      <th>2</th>\n",
       "      <td>327159</td>\n",
       "      <td>2019-06-26</td>\n",
       "      <td>t</td>\n",
       "      <td>$113.00</td>\n",
       "      <td>$113.00</td>\n",
       "      <td>1.0</td>\n",
       "      <td>56.0</td>\n",
       "    </tr>\n",
       "    <tr>\n",
       "      <th>3</th>\n",
       "      <td>327159</td>\n",
       "      <td>2019-06-27</td>\n",
       "      <td>t</td>\n",
       "      <td>$113.00</td>\n",
       "      <td>$113.00</td>\n",
       "      <td>1.0</td>\n",
       "      <td>56.0</td>\n",
       "    </tr>\n",
       "    <tr>\n",
       "      <th>4</th>\n",
       "      <td>327159</td>\n",
       "      <td>2019-06-28</td>\n",
       "      <td>t</td>\n",
       "      <td>$113.00</td>\n",
       "      <td>$113.00</td>\n",
       "      <td>1.0</td>\n",
       "      <td>56.0</td>\n",
       "    </tr>\n",
       "  </tbody>\n",
       "</table>\n",
       "</div>"
      ],
      "text/plain": [
       "   listing_id        date available    price adjusted_price  minimum_nights  \\\n",
       "0      568026  2019-06-25         f   $64.00         $64.00             3.0   \n",
       "1      327159  2019-06-25         t  $113.00        $113.00             1.0   \n",
       "2      327159  2019-06-26         t  $113.00        $113.00             1.0   \n",
       "3      327159  2019-06-27         t  $113.00        $113.00             1.0   \n",
       "4      327159  2019-06-28         t  $113.00        $113.00             1.0   \n",
       "\n",
       "   maximum_nights  \n",
       "0            60.0  \n",
       "1             1.0  \n",
       "2            56.0  \n",
       "3            56.0  \n",
       "4            56.0  "
      ]
     },
     "execution_count": 4,
     "metadata": {},
     "output_type": "execute_result"
    }
   ],
   "source": [
    "air_data_cal.head(5) # We can run head, tail and sample operation to get an idea of our dataset"
   ]
  },
  {
   "cell_type": "code",
   "execution_count": 5,
   "id": "33de19f2",
   "metadata": {
    "execution": {
     "iopub.execute_input": "2022-07-16T17:53:50.558235Z",
     "iopub.status.busy": "2022-07-16T17:53:50.557929Z",
     "iopub.status.idle": "2022-07-16T17:53:50.590131Z",
     "shell.execute_reply": "2022-07-16T17:53:50.589008Z"
    },
    "papermill": {
     "duration": 0.055987,
     "end_time": "2022-07-16T17:53:50.592895",
     "exception": false,
     "start_time": "2022-07-16T17:53:50.536908",
     "status": "completed"
    },
    "tags": []
   },
   "outputs": [
    {
     "data": {
      "text/html": [
       "<div>\n",
       "<style scoped>\n",
       "    .dataframe tbody tr th:only-of-type {\n",
       "        vertical-align: middle;\n",
       "    }\n",
       "\n",
       "    .dataframe tbody tr th {\n",
       "        vertical-align: top;\n",
       "    }\n",
       "\n",
       "    .dataframe thead th {\n",
       "        text-align: right;\n",
       "    }\n",
       "</style>\n",
       "<table border=\"1\" class=\"dataframe\">\n",
       "  <thead>\n",
       "    <tr style=\"text-align: right;\">\n",
       "      <th></th>\n",
       "      <th>id</th>\n",
       "      <th>name</th>\n",
       "      <th>host_id</th>\n",
       "      <th>host_name</th>\n",
       "      <th>host_identity_verified</th>\n",
       "      <th>street</th>\n",
       "      <th>neighbourhood</th>\n",
       "      <th>neighbourhood_group_cleansed</th>\n",
       "      <th>city</th>\n",
       "      <th>state</th>\n",
       "      <th>...</th>\n",
       "      <th>longitude</th>\n",
       "      <th>room_type</th>\n",
       "      <th>accommodates</th>\n",
       "      <th>price</th>\n",
       "      <th>minimum_nights</th>\n",
       "      <th>number_of_reviews</th>\n",
       "      <th>last_review</th>\n",
       "      <th>review_scores_rating</th>\n",
       "      <th>calculated_host_listings_count</th>\n",
       "      <th>reviews_per_month</th>\n",
       "    </tr>\n",
       "  </thead>\n",
       "  <tbody>\n",
       "    <tr>\n",
       "      <th>0</th>\n",
       "      <td>15420</td>\n",
       "      <td>Georgian Boutique Apt City Centre</td>\n",
       "      <td>60423</td>\n",
       "      <td>Charlotte</td>\n",
       "      <td>t</td>\n",
       "      <td>Edinburgh, City of Edinburgh, United Kingdom</td>\n",
       "      <td>New Town</td>\n",
       "      <td>NaN</td>\n",
       "      <td>Edinburgh</td>\n",
       "      <td>City of Edinburgh</td>\n",
       "      <td>...</td>\n",
       "      <td>-3.18768</td>\n",
       "      <td>Entire home/apt</td>\n",
       "      <td>2</td>\n",
       "      <td>$80.00</td>\n",
       "      <td>3</td>\n",
       "      <td>283</td>\n",
       "      <td>2019-06-23</td>\n",
       "      <td>99.0</td>\n",
       "      <td>1</td>\n",
       "      <td>2.76</td>\n",
       "    </tr>\n",
       "    <tr>\n",
       "      <th>1</th>\n",
       "      <td>24288</td>\n",
       "      <td>Cool central Loft, sleeps 4, 2 double bed+en-s...</td>\n",
       "      <td>46498</td>\n",
       "      <td>Gordon</td>\n",
       "      <td>f</td>\n",
       "      <td>Edinburgh, EH8 9JW, United Kingdom</td>\n",
       "      <td>Southside</td>\n",
       "      <td>NaN</td>\n",
       "      <td>Edinburgh</td>\n",
       "      <td>EH8 9JW</td>\n",
       "      <td>...</td>\n",
       "      <td>-3.18467</td>\n",
       "      <td>Entire home/apt</td>\n",
       "      <td>4</td>\n",
       "      <td>$115.00</td>\n",
       "      <td>2</td>\n",
       "      <td>199</td>\n",
       "      <td>2019-06-19</td>\n",
       "      <td>92.0</td>\n",
       "      <td>1</td>\n",
       "      <td>1.86</td>\n",
       "    </tr>\n",
       "    <tr>\n",
       "      <th>2</th>\n",
       "      <td>38628</td>\n",
       "      <td>Edinburgh Holiday Let</td>\n",
       "      <td>165635</td>\n",
       "      <td>Trish</td>\n",
       "      <td>t</td>\n",
       "      <td>Edinburgh, City of Edinburgh, United Kingdom</td>\n",
       "      <td>NaN</td>\n",
       "      <td>NaN</td>\n",
       "      <td>Edinburgh</td>\n",
       "      <td>City of Edinburgh</td>\n",
       "      <td>...</td>\n",
       "      <td>-3.09525</td>\n",
       "      <td>Entire home/apt</td>\n",
       "      <td>2</td>\n",
       "      <td>$46.00</td>\n",
       "      <td>4</td>\n",
       "      <td>52</td>\n",
       "      <td>2019-05-29</td>\n",
       "      <td>94.0</td>\n",
       "      <td>2</td>\n",
       "      <td>0.85</td>\n",
       "    </tr>\n",
       "    <tr>\n",
       "      <th>3</th>\n",
       "      <td>44552</td>\n",
       "      <td>Double room - spacious Leith flat</td>\n",
       "      <td>195950</td>\n",
       "      <td>Shaun</td>\n",
       "      <td>t</td>\n",
       "      <td>Edinburgh, City of Edinburgh, United Kingdom</td>\n",
       "      <td>Leith</td>\n",
       "      <td>NaN</td>\n",
       "      <td>Edinburgh</td>\n",
       "      <td>City of Edinburgh</td>\n",
       "      <td>...</td>\n",
       "      <td>-3.17241</td>\n",
       "      <td>Private room</td>\n",
       "      <td>2</td>\n",
       "      <td>$32.00</td>\n",
       "      <td>2</td>\n",
       "      <td>184</td>\n",
       "      <td>2019-06-04</td>\n",
       "      <td>93.0</td>\n",
       "      <td>1</td>\n",
       "      <td>1.71</td>\n",
       "    </tr>\n",
       "    <tr>\n",
       "      <th>4</th>\n",
       "      <td>47616</td>\n",
       "      <td>City flat, close to nature and the Fringe</td>\n",
       "      <td>216203</td>\n",
       "      <td>Ben</td>\n",
       "      <td>t</td>\n",
       "      <td>Edinburgh, City of Edinburgh, United Kingdom</td>\n",
       "      <td>Southside</td>\n",
       "      <td>NaN</td>\n",
       "      <td>Edinburgh</td>\n",
       "      <td>City of Edinburgh</td>\n",
       "      <td>...</td>\n",
       "      <td>-3.17851</td>\n",
       "      <td>Private room</td>\n",
       "      <td>2</td>\n",
       "      <td>$100.00</td>\n",
       "      <td>1</td>\n",
       "      <td>32</td>\n",
       "      <td>2019-05-26</td>\n",
       "      <td>98.0</td>\n",
       "      <td>1</td>\n",
       "      <td>0.84</td>\n",
       "    </tr>\n",
       "  </tbody>\n",
       "</table>\n",
       "<p>5 rows × 22 columns</p>\n",
       "</div>"
      ],
      "text/plain": [
       "      id                                               name  host_id  \\\n",
       "0  15420                  Georgian Boutique Apt City Centre    60423   \n",
       "1  24288  Cool central Loft, sleeps 4, 2 double bed+en-s...    46498   \n",
       "2  38628                              Edinburgh Holiday Let   165635   \n",
       "3  44552                  Double room - spacious Leith flat   195950   \n",
       "4  47616          City flat, close to nature and the Fringe   216203   \n",
       "\n",
       "   host_name host_identity_verified  \\\n",
       "0  Charlotte                      t   \n",
       "1     Gordon                      f   \n",
       "2      Trish                      t   \n",
       "3      Shaun                      t   \n",
       "4        Ben                      t   \n",
       "\n",
       "                                         street neighbourhood  \\\n",
       "0  Edinburgh, City of Edinburgh, United Kingdom      New Town   \n",
       "1            Edinburgh, EH8 9JW, United Kingdom     Southside   \n",
       "2  Edinburgh, City of Edinburgh, United Kingdom           NaN   \n",
       "3  Edinburgh, City of Edinburgh, United Kingdom         Leith   \n",
       "4  Edinburgh, City of Edinburgh, United Kingdom     Southside   \n",
       "\n",
       "   neighbourhood_group_cleansed       city              state  ... longitude  \\\n",
       "0                           NaN  Edinburgh  City of Edinburgh  ...  -3.18768   \n",
       "1                           NaN  Edinburgh            EH8 9JW  ...  -3.18467   \n",
       "2                           NaN  Edinburgh  City of Edinburgh  ...  -3.09525   \n",
       "3                           NaN  Edinburgh  City of Edinburgh  ...  -3.17241   \n",
       "4                           NaN  Edinburgh  City of Edinburgh  ...  -3.17851   \n",
       "\n",
       "         room_type  accommodates    price  minimum_nights number_of_reviews  \\\n",
       "0  Entire home/apt             2   $80.00               3               283   \n",
       "1  Entire home/apt             4  $115.00               2               199   \n",
       "2  Entire home/apt             2   $46.00               4                52   \n",
       "3     Private room             2   $32.00               2               184   \n",
       "4     Private room             2  $100.00               1                32   \n",
       "\n",
       "   last_review  review_scores_rating calculated_host_listings_count  \\\n",
       "0   2019-06-23                  99.0                              1   \n",
       "1   2019-06-19                  92.0                              1   \n",
       "2   2019-05-29                  94.0                              2   \n",
       "3   2019-06-04                  93.0                              1   \n",
       "4   2019-05-26                  98.0                              1   \n",
       "\n",
       "   reviews_per_month  \n",
       "0               2.76  \n",
       "1               1.86  \n",
       "2               0.85  \n",
       "3               1.71  \n",
       "4               0.84  \n",
       "\n",
       "[5 rows x 22 columns]"
      ]
     },
     "execution_count": 5,
     "metadata": {},
     "output_type": "execute_result"
    }
   ],
   "source": [
    "air_data_listings.head(5) # We can run head, tail and sample operation to get an idea of our dataset"
   ]
  },
  {
   "cell_type": "markdown",
   "id": "7f5efd25",
   "metadata": {
    "papermill": {
     "duration": 0.020939,
     "end_time": "2022-07-16T17:53:50.634508",
     "exception": false,
     "start_time": "2022-07-16T17:53:50.613569",
     "status": "completed"
    },
    "tags": []
   },
   "source": [
    "<a id=\"3\"></a> \n",
    "# <b>3 <span style='color:#FE5F64'>|</span> Preprocessing Airbnb Dataset</b>"
   ]
  },
  {
   "cell_type": "markdown",
   "id": "e0c829c7",
   "metadata": {
    "papermill": {
     "duration": 0.02038,
     "end_time": "2022-07-16T17:53:50.675276",
     "exception": false,
     "start_time": "2022-07-16T17:53:50.654896",
     "status": "completed"
    },
    "tags": []
   },
   "source": [
    "## <b> Calendar Data </b>"
   ]
  },
  {
   "cell_type": "code",
   "execution_count": 6,
   "id": "68197316",
   "metadata": {
    "execution": {
     "iopub.execute_input": "2022-07-16T17:53:50.717811Z",
     "iopub.status.busy": "2022-07-16T17:53:50.717491Z",
     "iopub.status.idle": "2022-07-16T17:54:22.012144Z",
     "shell.execute_reply": "2022-07-16T17:54:22.010518Z"
    },
    "papermill": {
     "duration": 31.337901,
     "end_time": "2022-07-16T17:54:22.033548",
     "exception": false,
     "start_time": "2022-07-16T17:53:50.695647",
     "status": "completed"
    },
    "tags": []
   },
   "outputs": [
    {
     "data": {
      "text/plain": [
       "<AxesSubplot:>"
      ]
     },
     "execution_count": 6,
     "metadata": {},
     "output_type": "execute_result"
    },
    {
     "data": {
      "image/png": "[encoded data removed]",
      "text/plain": [
       "<Figure size 432x288 with 1 Axes>"
      ]
     },
     "metadata": {
      "needs_background": "light"
     },
     "output_type": "display_data"
    }
   ],
   "source": [
    "# Plot to see null values in our data\n",
    "sns.heatmap(air_data_cal.isnull(), cbar=False)"
   ]
  },
  {
   "cell_type": "code",
   "execution_count": 7,
   "id": "b6a3cb27",
   "metadata": {
    "execution": {
     "iopub.execute_input": "2022-07-16T17:54:22.081660Z",
     "iopub.status.busy": "2022-07-16T17:54:22.081186Z",
     "iopub.status.idle": "2022-07-16T17:54:22.763855Z",
     "shell.execute_reply": "2022-07-16T17:54:22.762663Z"
    },
    "papermill": {
     "duration": 0.708352,
     "end_time": "2022-07-16T17:54:22.766598",
     "exception": false,
     "start_time": "2022-07-16T17:54:22.058246",
     "status": "completed"
    },
    "tags": []
   },
   "outputs": [
    {
     "data": {
      "text/html": [
       "<div>\n",
       "<style scoped>\n",
       "    .dataframe tbody tr th:only-of-type {\n",
       "        vertical-align: middle;\n",
       "    }\n",
       "\n",
       "    .dataframe tbody tr th {\n",
       "        vertical-align: top;\n",
       "    }\n",
       "\n",
       "    .dataframe thead th {\n",
       "        text-align: right;\n",
       "    }\n",
       "</style>\n",
       "<table border=\"1\" class=\"dataframe\">\n",
       "  <thead>\n",
       "    <tr style=\"text-align: right;\">\n",
       "      <th></th>\n",
       "      <th>column_name</th>\n",
       "      <th>percent_missing</th>\n",
       "    </tr>\n",
       "  </thead>\n",
       "  <tbody>\n",
       "    <tr>\n",
       "      <th>listing_id</th>\n",
       "      <td>listing_id</td>\n",
       "      <td>0.000000</td>\n",
       "    </tr>\n",
       "    <tr>\n",
       "      <th>date</th>\n",
       "      <td>date</td>\n",
       "      <td>0.000000</td>\n",
       "    </tr>\n",
       "    <tr>\n",
       "      <th>available</th>\n",
       "      <td>available</td>\n",
       "      <td>0.000000</td>\n",
       "    </tr>\n",
       "    <tr>\n",
       "      <th>price</th>\n",
       "      <td>price</td>\n",
       "      <td>0.000000</td>\n",
       "    </tr>\n",
       "    <tr>\n",
       "      <th>adjusted_price</th>\n",
       "      <td>adjusted_price</td>\n",
       "      <td>0.000000</td>\n",
       "    </tr>\n",
       "    <tr>\n",
       "      <th>minimum_nights</th>\n",
       "      <td>minimum_nights</td>\n",
       "      <td>0.000372</td>\n",
       "    </tr>\n",
       "    <tr>\n",
       "      <th>maximum_nights</th>\n",
       "      <td>maximum_nights</td>\n",
       "      <td>0.000372</td>\n",
       "    </tr>\n",
       "  </tbody>\n",
       "</table>\n",
       "</div>"
      ],
      "text/plain": [
       "                   column_name  percent_missing\n",
       "listing_id          listing_id         0.000000\n",
       "date                      date         0.000000\n",
       "available            available         0.000000\n",
       "price                    price         0.000000\n",
       "adjusted_price  adjusted_price         0.000000\n",
       "minimum_nights  minimum_nights         0.000372\n",
       "maximum_nights  maximum_nights         0.000372"
      ]
     },
     "execution_count": 7,
     "metadata": {},
     "output_type": "execute_result"
    }
   ],
   "source": [
    "# Null Value Percentage Per column\n",
    "percent_missing = air_data_cal.isnull().sum() * 100 / len(air_data_cal)\n",
    "missing_value_df = pd.DataFrame({'column_name': air_data_cal.columns,\n",
    "                                 'percent_missing': percent_missing})\n",
    "missing_value_df"
   ]
  },
  {
   "cell_type": "code",
   "execution_count": 8,
   "id": "e6ad173c",
   "metadata": {
    "execution": {
     "iopub.execute_input": "2022-07-16T17:54:22.814457Z",
     "iopub.status.busy": "2022-07-16T17:54:22.814006Z",
     "iopub.status.idle": "2022-07-16T17:54:23.690620Z",
     "shell.execute_reply": "2022-07-16T17:54:23.689727Z"
    },
    "papermill": {
     "duration": 0.904017,
     "end_time": "2022-07-16T17:54:23.692552",
     "exception": false,
     "start_time": "2022-07-16T17:54:22.788535",
     "status": "completed"
    },
    "tags": []
   },
   "outputs": [
    {
     "data": {
      "text/plain": [
       "36"
      ]
     },
     "execution_count": 8,
     "metadata": {},
     "output_type": "execute_result"
    }
   ],
   "source": [
    "# Checking number of null values\n",
    "air_data_cal.isna().sum().sum()"
   ]
  },
  {
   "cell_type": "markdown",
   "id": "23be73f8",
   "metadata": {
    "papermill": {
     "duration": 0.021104,
     "end_time": "2022-07-16T17:54:23.735218",
     "exception": false,
     "start_time": "2022-07-16T17:54:23.714114",
     "status": "completed"
    },
    "tags": []
   },
   "source": [
    "### There is very tiny amount of null values in our dataset so we will remove thoes and move ahead."
   ]
  },
  {
   "cell_type": "code",
   "execution_count": 9,
   "id": "d317c44a",
   "metadata": {
    "execution": {
     "iopub.execute_input": "2022-07-16T17:54:23.779681Z",
     "iopub.status.busy": "2022-07-16T17:54:23.779295Z",
     "iopub.status.idle": "2022-07-16T17:54:26.109145Z",
     "shell.execute_reply": "2022-07-16T17:54:26.108052Z"
    },
    "papermill": {
     "duration": 2.355322,
     "end_time": "2022-07-16T17:54:26.111882",
     "exception": false,
     "start_time": "2022-07-16T17:54:23.756560",
     "status": "completed"
    },
    "tags": []
   },
   "outputs": [],
   "source": [
    "air_data_cal.dropna(axis=0,inplace=True)"
   ]
  },
  {
   "cell_type": "markdown",
   "id": "c35d1646",
   "metadata": {
    "papermill": {
     "duration": 0.020927,
     "end_time": "2022-07-16T17:54:26.154493",
     "exception": false,
     "start_time": "2022-07-16T17:54:26.133566",
     "status": "completed"
    },
    "tags": []
   },
   "source": [
    "### Date column should be of type datetime and not an object. \n",
    "### We can also create multiple other columns from date column for our EDA and it can also be helpul for building our model later on."
   ]
  },
  {
   "cell_type": "code",
   "execution_count": 10,
   "id": "7ab05524",
   "metadata": {
    "execution": {
     "iopub.execute_input": "2022-07-16T17:54:26.198846Z",
     "iopub.status.busy": "2022-07-16T17:54:26.198463Z",
     "iopub.status.idle": "2022-07-16T17:54:26.207009Z",
     "shell.execute_reply": "2022-07-16T17:54:26.205905Z"
    },
    "papermill": {
     "duration": 0.033351,
     "end_time": "2022-07-16T17:54:26.209101",
     "exception": false,
     "start_time": "2022-07-16T17:54:26.175750",
     "status": "completed"
    },
    "tags": []
   },
   "outputs": [
    {
     "data": {
      "text/plain": [
       "listing_id          int64\n",
       "date               object\n",
       "available          object\n",
       "price              object\n",
       "adjusted_price     object\n",
       "minimum_nights    float64\n",
       "maximum_nights    float64\n",
       "dtype: object"
      ]
     },
     "execution_count": 10,
     "metadata": {},
     "output_type": "execute_result"
    }
   ],
   "source": [
    "# See if all the datatypes are correct \n",
    "air_data_cal.dtypes"
   ]
  },
  {
   "cell_type": "code",
   "execution_count": 11,
   "id": "63e4d136",
   "metadata": {
    "execution": {
     "iopub.execute_input": "2022-07-16T17:54:26.254336Z",
     "iopub.status.busy": "2022-07-16T17:54:26.253951Z",
     "iopub.status.idle": "2022-07-16T17:54:31.672502Z",
     "shell.execute_reply": "2022-07-16T17:54:31.671454Z"
    },
    "papermill": {
     "duration": 5.443996,
     "end_time": "2022-07-16T17:54:31.674846",
     "exception": false,
     "start_time": "2022-07-16T17:54:26.230850",
     "status": "completed"
    },
    "tags": []
   },
   "outputs": [],
   "source": [
    "# Change date column to datetime type and create year, month and day column as well\n",
    "air_data_cal['date'] = pd.to_datetime(air_data_cal['date'])\n",
    "air_data_cal['year'] = air_data_cal['date'].dt.year\n",
    "air_data_cal['month'] = air_data_cal['date'].dt.month\n",
    "air_data_cal['day'] = air_data_cal['date'].dt.day\n",
    "air_data_cal['dayOfWeek'] = air_data_cal['date'].dt.weekday # The day of the week with Monday=0, Sunday=6.\n",
    "air_data_cal['Weekday_Name'] = air_data_cal['date'].dt.day_name()"
   ]
  },
  {
   "cell_type": "code",
   "execution_count": 12,
   "id": "e101436b",
   "metadata": {
    "execution": {
     "iopub.execute_input": "2022-07-16T17:54:31.704994Z",
     "iopub.status.busy": "2022-07-16T17:54:31.704613Z",
     "iopub.status.idle": "2022-07-16T17:54:33.202615Z",
     "shell.execute_reply": "2022-07-16T17:54:33.201603Z"
    },
    "papermill": {
     "duration": 1.51575,
     "end_time": "2022-07-16T17:54:33.204973",
     "exception": false,
     "start_time": "2022-07-16T17:54:31.689223",
     "status": "completed"
    },
    "tags": []
   },
   "outputs": [],
   "source": [
    "air_data_cal['Month_Name'] = air_data_cal['date'].dt.month_name()"
   ]
  },
  {
   "cell_type": "code",
   "execution_count": 13,
   "id": "94ea7708",
   "metadata": {
    "execution": {
     "iopub.execute_input": "2022-07-16T17:54:33.233930Z",
     "iopub.status.busy": "2022-07-16T17:54:33.233543Z",
     "iopub.status.idle": "2022-07-16T17:54:40.341762Z",
     "shell.execute_reply": "2022-07-16T17:54:40.340696Z"
    },
    "papermill": {
     "duration": 7.125116,
     "end_time": "2022-07-16T17:54:40.343961",
     "exception": false,
     "start_time": "2022-07-16T17:54:33.218845",
     "status": "completed"
    },
    "tags": []
   },
   "outputs": [],
   "source": [
    "air_data_cal['price'] = air_data_cal['price'].str.replace('$','')\n",
    "air_data_cal['price'] = air_data_cal['price'].str.replace(',','')"
   ]
  },
  {
   "cell_type": "code",
   "execution_count": 14,
   "id": "9f0f39c9",
   "metadata": {
    "execution": {
     "iopub.execute_input": "2022-07-16T17:54:40.381256Z",
     "iopub.status.busy": "2022-07-16T17:54:40.380969Z",
     "iopub.status.idle": "2022-07-16T17:54:42.047242Z",
     "shell.execute_reply": "2022-07-16T17:54:42.046251Z"
    },
    "papermill": {
     "duration": 1.692163,
     "end_time": "2022-07-16T17:54:42.049837",
     "exception": false,
     "start_time": "2022-07-16T17:54:40.357674",
     "status": "completed"
    },
    "tags": []
   },
   "outputs": [],
   "source": [
    "air_data_cal['price'] = [x.split('.')[0] for x in air_data_cal['price']]"
   ]
  },
  {
   "cell_type": "code",
   "execution_count": 15,
   "id": "ccc87d42",
   "metadata": {
    "execution": {
     "iopub.execute_input": "2022-07-16T17:54:42.094805Z",
     "iopub.status.busy": "2022-07-16T17:54:42.094303Z",
     "iopub.status.idle": "2022-07-16T17:54:42.735613Z",
     "shell.execute_reply": "2022-07-16T17:54:42.734489Z"
    },
    "papermill": {
     "duration": 0.666995,
     "end_time": "2022-07-16T17:54:42.738404",
     "exception": false,
     "start_time": "2022-07-16T17:54:42.071409",
     "status": "completed"
    },
    "tags": []
   },
   "outputs": [],
   "source": [
    "air_data_cal['price'] = air_data_cal['price'].astype(str).astype(int)"
   ]
  },
  {
   "cell_type": "code",
   "execution_count": 16,
   "id": "bfda41df",
   "metadata": {
    "execution": {
     "iopub.execute_input": "2022-07-16T17:54:42.767560Z",
     "iopub.status.busy": "2022-07-16T17:54:42.767204Z",
     "iopub.status.idle": "2022-07-16T17:54:46.373612Z",
     "shell.execute_reply": "2022-07-16T17:54:46.372633Z"
    },
    "papermill": {
     "duration": 3.624196,
     "end_time": "2022-07-16T17:54:46.376250",
     "exception": false,
     "start_time": "2022-07-16T17:54:42.752054",
     "status": "completed"
    },
    "tags": []
   },
   "outputs": [],
   "source": [
    "air_data_cal['adjusted_price'] = air_data_cal['adjusted_price'].str.replace('$',' ')\n",
    "air_data_cal['adjusted_price'] = air_data_cal['adjusted_price'].str.replace(',','')"
   ]
  },
  {
   "cell_type": "code",
   "execution_count": 17,
   "id": "39ea93dc",
   "metadata": {
    "execution": {
     "iopub.execute_input": "2022-07-16T17:54:46.421546Z",
     "iopub.status.busy": "2022-07-16T17:54:46.421213Z",
     "iopub.status.idle": "2022-07-16T17:54:48.066808Z",
     "shell.execute_reply": "2022-07-16T17:54:48.065452Z"
    },
    "papermill": {
     "duration": 1.670558,
     "end_time": "2022-07-16T17:54:48.068820",
     "exception": false,
     "start_time": "2022-07-16T17:54:46.398262",
     "status": "completed"
    },
    "tags": []
   },
   "outputs": [],
   "source": [
    "air_data_cal['adjusted_price'] = [x.split('.')[0] for x in air_data_cal['adjusted_price']]"
   ]
  },
  {
   "cell_type": "code",
   "execution_count": 18,
   "id": "7bf309eb",
   "metadata": {
    "execution": {
     "iopub.execute_input": "2022-07-16T17:54:48.098177Z",
     "iopub.status.busy": "2022-07-16T17:54:48.097843Z",
     "iopub.status.idle": "2022-07-16T17:54:48.750886Z",
     "shell.execute_reply": "2022-07-16T17:54:48.749806Z"
    },
    "papermill": {
     "duration": 0.67028,
     "end_time": "2022-07-16T17:54:48.753070",
     "exception": false,
     "start_time": "2022-07-16T17:54:48.082790",
     "status": "completed"
    },
    "tags": []
   },
   "outputs": [],
   "source": [
    "air_data_cal['adjusted_price'] = air_data_cal['adjusted_price'].astype(str).astype(int)"
   ]
  },
  {
   "cell_type": "markdown",
   "id": "2ef3e42b",
   "metadata": {
    "papermill": {
     "duration": 0.013546,
     "end_time": "2022-07-16T17:54:48.780570",
     "exception": false,
     "start_time": "2022-07-16T17:54:48.767024",
     "status": "completed"
    },
    "tags": []
   },
   "source": [
    "## <b> Listings Data </b>"
   ]
  },
  {
   "cell_type": "code",
   "execution_count": 19,
   "id": "feba0b2e",
   "metadata": {
    "execution": {
     "iopub.execute_input": "2022-07-16T17:54:48.810498Z",
     "iopub.status.busy": "2022-07-16T17:54:48.810107Z",
     "iopub.status.idle": "2022-07-16T17:54:48.839619Z",
     "shell.execute_reply": "2022-07-16T17:54:48.838503Z"
    },
    "papermill": {
     "duration": 0.047987,
     "end_time": "2022-07-16T17:54:48.842525",
     "exception": false,
     "start_time": "2022-07-16T17:54:48.794538",
     "status": "completed"
    },
    "tags": []
   },
   "outputs": [
    {
     "data": {
      "text/html": [
       "<div>\n",
       "<style scoped>\n",
       "    .dataframe tbody tr th:only-of-type {\n",
       "        vertical-align: middle;\n",
       "    }\n",
       "\n",
       "    .dataframe tbody tr th {\n",
       "        vertical-align: top;\n",
       "    }\n",
       "\n",
       "    .dataframe thead th {\n",
       "        text-align: right;\n",
       "    }\n",
       "</style>\n",
       "<table border=\"1\" class=\"dataframe\">\n",
       "  <thead>\n",
       "    <tr style=\"text-align: right;\">\n",
       "      <th></th>\n",
       "      <th>id</th>\n",
       "      <th>name</th>\n",
       "      <th>host_id</th>\n",
       "      <th>host_name</th>\n",
       "      <th>host_identity_verified</th>\n",
       "      <th>street</th>\n",
       "      <th>neighbourhood</th>\n",
       "      <th>neighbourhood_group_cleansed</th>\n",
       "      <th>city</th>\n",
       "      <th>state</th>\n",
       "      <th>...</th>\n",
       "      <th>longitude</th>\n",
       "      <th>room_type</th>\n",
       "      <th>accommodates</th>\n",
       "      <th>price</th>\n",
       "      <th>minimum_nights</th>\n",
       "      <th>number_of_reviews</th>\n",
       "      <th>last_review</th>\n",
       "      <th>review_scores_rating</th>\n",
       "      <th>calculated_host_listings_count</th>\n",
       "      <th>reviews_per_month</th>\n",
       "    </tr>\n",
       "  </thead>\n",
       "  <tbody>\n",
       "    <tr>\n",
       "      <th>9948</th>\n",
       "      <td>27419887</td>\n",
       "      <td>Ideal based Tenement in Morningside for 4</td>\n",
       "      <td>174502310</td>\n",
       "      <td>Vivien</td>\n",
       "      <td>f</td>\n",
       "      <td>Edinburgh, Scotland, United Kingdom</td>\n",
       "      <td>Morningside</td>\n",
       "      <td>NaN</td>\n",
       "      <td>Edinburgh</td>\n",
       "      <td>Scotland</td>\n",
       "      <td>...</td>\n",
       "      <td>-3.20925</td>\n",
       "      <td>Entire home/apt</td>\n",
       "      <td>4</td>\n",
       "      <td>$100.00</td>\n",
       "      <td>2</td>\n",
       "      <td>17</td>\n",
       "      <td>2019-06-14</td>\n",
       "      <td>96.0</td>\n",
       "      <td>3</td>\n",
       "      <td>1.58</td>\n",
       "    </tr>\n",
       "    <tr>\n",
       "      <th>2622</th>\n",
       "      <td>10291275</td>\n",
       "      <td>Studio Flat Edinburgh Free parking</td>\n",
       "      <td>9956902</td>\n",
       "      <td>Anthony</td>\n",
       "      <td>t</td>\n",
       "      <td>Edinburgh, Scotland, United Kingdom</td>\n",
       "      <td>Leith</td>\n",
       "      <td>NaN</td>\n",
       "      <td>Edinburgh</td>\n",
       "      <td>Scotland</td>\n",
       "      <td>...</td>\n",
       "      <td>-3.17463</td>\n",
       "      <td>Entire home/apt</td>\n",
       "      <td>2</td>\n",
       "      <td>$45.00</td>\n",
       "      <td>2</td>\n",
       "      <td>83</td>\n",
       "      <td>2019-06-20</td>\n",
       "      <td>95.0</td>\n",
       "      <td>1</td>\n",
       "      <td>2.04</td>\n",
       "    </tr>\n",
       "    <tr>\n",
       "      <th>2842</th>\n",
       "      <td>11747006</td>\n",
       "      <td>Edinburgh Castle Suites</td>\n",
       "      <td>62500353</td>\n",
       "      <td>Edinburgh Castle Apartments &amp; Suite</td>\n",
       "      <td>f</td>\n",
       "      <td>Edinburgh, United Kingdom</td>\n",
       "      <td>New Town</td>\n",
       "      <td>NaN</td>\n",
       "      <td>Edinburgh</td>\n",
       "      <td>NaN</td>\n",
       "      <td>...</td>\n",
       "      <td>-3.20265</td>\n",
       "      <td>Entire home/apt</td>\n",
       "      <td>2</td>\n",
       "      <td>$135.00</td>\n",
       "      <td>1</td>\n",
       "      <td>142</td>\n",
       "      <td>2019-06-10</td>\n",
       "      <td>96.0</td>\n",
       "      <td>3</td>\n",
       "      <td>3.71</td>\n",
       "    </tr>\n",
       "  </tbody>\n",
       "</table>\n",
       "<p>3 rows × 22 columns</p>\n",
       "</div>"
      ],
      "text/plain": [
       "            id                                       name    host_id  \\\n",
       "9948  27419887  Ideal based Tenement in Morningside for 4  174502310   \n",
       "2622  10291275         Studio Flat Edinburgh Free parking    9956902   \n",
       "2842  11747006                    Edinburgh Castle Suites   62500353   \n",
       "\n",
       "                                host_name host_identity_verified  \\\n",
       "9948                               Vivien                      f   \n",
       "2622                              Anthony                      t   \n",
       "2842  Edinburgh Castle Apartments & Suite                      f   \n",
       "\n",
       "                                   street neighbourhood  \\\n",
       "9948  Edinburgh, Scotland, United Kingdom   Morningside   \n",
       "2622  Edinburgh, Scotland, United Kingdom         Leith   \n",
       "2842            Edinburgh, United Kingdom      New Town   \n",
       "\n",
       "      neighbourhood_group_cleansed       city     state  ... longitude  \\\n",
       "9948                           NaN  Edinburgh  Scotland  ...  -3.20925   \n",
       "2622                           NaN  Edinburgh  Scotland  ...  -3.17463   \n",
       "2842                           NaN  Edinburgh       NaN  ...  -3.20265   \n",
       "\n",
       "            room_type  accommodates    price  minimum_nights  \\\n",
       "9948  Entire home/apt             4  $100.00               2   \n",
       "2622  Entire home/apt             2   $45.00               2   \n",
       "2842  Entire home/apt             2  $135.00               1   \n",
       "\n",
       "     number_of_reviews  last_review  review_scores_rating  \\\n",
       "9948                17   2019-06-14                  96.0   \n",
       "2622                83   2019-06-20                  95.0   \n",
       "2842               142   2019-06-10                  96.0   \n",
       "\n",
       "     calculated_host_listings_count  reviews_per_month  \n",
       "9948                              3               1.58  \n",
       "2622                              1               2.04  \n",
       "2842                              3               3.71  \n",
       "\n",
       "[3 rows x 22 columns]"
      ]
     },
     "execution_count": 19,
     "metadata": {},
     "output_type": "execute_result"
    }
   ],
   "source": [
    "air_data_listings.sample(3)  # We can run head, tail and sample operation to get an idea of our dataset"
   ]
  },
  {
   "cell_type": "code",
   "execution_count": 20,
   "id": "22834667",
   "metadata": {
    "execution": {
     "iopub.execute_input": "2022-07-16T17:54:48.888580Z",
     "iopub.status.busy": "2022-07-16T17:54:48.888258Z",
     "iopub.status.idle": "2022-07-16T17:54:49.604022Z",
     "shell.execute_reply": "2022-07-16T17:54:49.603044Z"
    },
    "papermill": {
     "duration": 0.741108,
     "end_time": "2022-07-16T17:54:49.606188",
     "exception": false,
     "start_time": "2022-07-16T17:54:48.865080",
     "status": "completed"
    },
    "tags": []
   },
   "outputs": [
    {
     "data": {
      "text/plain": [
       "<AxesSubplot:>"
      ]
     },
     "execution_count": 20,
     "metadata": {},
     "output_type": "execute_result"
    },
    {
     "data": {
      "image/png": "[encoded data removed]",
      "text/plain": [
       "<Figure size 432x288 with 1 Axes>"
      ]
     },
     "metadata": {
      "needs_background": "light"
     },
     "output_type": "display_data"
    }
   ],
   "source": [
    "# Plot to see null values in our data\n",
    "sns.heatmap(air_data_listings.isnull(), cbar=False)"
   ]
  },
  {
   "cell_type": "code",
   "execution_count": 21,
   "id": "80dce4e6",
   "metadata": {
    "execution": {
     "iopub.execute_input": "2022-07-16T17:54:49.637587Z",
     "iopub.status.busy": "2022-07-16T17:54:49.637155Z",
     "iopub.status.idle": "2022-07-16T17:54:49.670689Z",
     "shell.execute_reply": "2022-07-16T17:54:49.669754Z"
    },
    "papermill": {
     "duration": 0.051953,
     "end_time": "2022-07-16T17:54:49.673180",
     "exception": false,
     "start_time": "2022-07-16T17:54:49.621227",
     "status": "completed"
    },
    "tags": []
   },
   "outputs": [
    {
     "data": {
      "text/html": [
       "<div>\n",
       "<style scoped>\n",
       "    .dataframe tbody tr th:only-of-type {\n",
       "        vertical-align: middle;\n",
       "    }\n",
       "\n",
       "    .dataframe tbody tr th {\n",
       "        vertical-align: top;\n",
       "    }\n",
       "\n",
       "    .dataframe thead th {\n",
       "        text-align: right;\n",
       "    }\n",
       "</style>\n",
       "<table border=\"1\" class=\"dataframe\">\n",
       "  <thead>\n",
       "    <tr style=\"text-align: right;\">\n",
       "      <th></th>\n",
       "      <th>column_name</th>\n",
       "      <th>percent_missing</th>\n",
       "    </tr>\n",
       "  </thead>\n",
       "  <tbody>\n",
       "    <tr>\n",
       "      <th>neighbourhood_group_cleansed</th>\n",
       "      <td>neighbourhood_group_cleansed</td>\n",
       "      <td>100.000000</td>\n",
       "    </tr>\n",
       "    <tr>\n",
       "      <th>state</th>\n",
       "      <td>state</td>\n",
       "      <td>19.252548</td>\n",
       "    </tr>\n",
       "    <tr>\n",
       "      <th>neighbourhood</th>\n",
       "      <td>neighbourhood</td>\n",
       "      <td>17.319743</td>\n",
       "    </tr>\n",
       "    <tr>\n",
       "      <th>review_scores_rating</th>\n",
       "      <td>review_scores_rating</td>\n",
       "      <td>16.436391</td>\n",
       "    </tr>\n",
       "    <tr>\n",
       "      <th>reviews_per_month</th>\n",
       "      <td>reviews_per_month</td>\n",
       "      <td>15.341638</td>\n",
       "    </tr>\n",
       "    <tr>\n",
       "      <th>last_review</th>\n",
       "      <td>last_review</td>\n",
       "      <td>15.341638</td>\n",
       "    </tr>\n",
       "    <tr>\n",
       "      <th>market</th>\n",
       "      <td>market</td>\n",
       "      <td>1.547754</td>\n",
       "    </tr>\n",
       "    <tr>\n",
       "      <th>host_name</th>\n",
       "      <td>host_name</td>\n",
       "      <td>0.143450</td>\n",
       "    </tr>\n",
       "    <tr>\n",
       "      <th>host_identity_verified</th>\n",
       "      <td>host_identity_verified</td>\n",
       "      <td>0.143450</td>\n",
       "    </tr>\n",
       "    <tr>\n",
       "      <th>city</th>\n",
       "      <td>city</td>\n",
       "      <td>0.120800</td>\n",
       "    </tr>\n",
       "    <tr>\n",
       "      <th>name</th>\n",
       "      <td>name</td>\n",
       "      <td>0.007550</td>\n",
       "    </tr>\n",
       "    <tr>\n",
       "      <th>price</th>\n",
       "      <td>price</td>\n",
       "      <td>0.000000</td>\n",
       "    </tr>\n",
       "    <tr>\n",
       "      <th>calculated_host_listings_count</th>\n",
       "      <td>calculated_host_listings_count</td>\n",
       "      <td>0.000000</td>\n",
       "    </tr>\n",
       "    <tr>\n",
       "      <th>number_of_reviews</th>\n",
       "      <td>number_of_reviews</td>\n",
       "      <td>0.000000</td>\n",
       "    </tr>\n",
       "    <tr>\n",
       "      <th>minimum_nights</th>\n",
       "      <td>minimum_nights</td>\n",
       "      <td>0.000000</td>\n",
       "    </tr>\n",
       "    <tr>\n",
       "      <th>id</th>\n",
       "      <td>id</td>\n",
       "      <td>0.000000</td>\n",
       "    </tr>\n",
       "    <tr>\n",
       "      <th>accommodates</th>\n",
       "      <td>accommodates</td>\n",
       "      <td>0.000000</td>\n",
       "    </tr>\n",
       "    <tr>\n",
       "      <th>room_type</th>\n",
       "      <td>room_type</td>\n",
       "      <td>0.000000</td>\n",
       "    </tr>\n",
       "    <tr>\n",
       "      <th>longitude</th>\n",
       "      <td>longitude</td>\n",
       "      <td>0.000000</td>\n",
       "    </tr>\n",
       "    <tr>\n",
       "      <th>street</th>\n",
       "      <td>street</td>\n",
       "      <td>0.000000</td>\n",
       "    </tr>\n",
       "    <tr>\n",
       "      <th>host_id</th>\n",
       "      <td>host_id</td>\n",
       "      <td>0.000000</td>\n",
       "    </tr>\n",
       "    <tr>\n",
       "      <th>latitude</th>\n",
       "      <td>latitude</td>\n",
       "      <td>0.000000</td>\n",
       "    </tr>\n",
       "  </tbody>\n",
       "</table>\n",
       "</div>"
      ],
      "text/plain": [
       "                                                   column_name  \\\n",
       "neighbourhood_group_cleansed      neighbourhood_group_cleansed   \n",
       "state                                                    state   \n",
       "neighbourhood                                    neighbourhood   \n",
       "review_scores_rating                      review_scores_rating   \n",
       "reviews_per_month                            reviews_per_month   \n",
       "last_review                                        last_review   \n",
       "market                                                  market   \n",
       "host_name                                            host_name   \n",
       "host_identity_verified                  host_identity_verified   \n",
       "city                                                      city   \n",
       "name                                                      name   \n",
       "price                                                    price   \n",
       "calculated_host_listings_count  calculated_host_listings_count   \n",
       "number_of_reviews                            number_of_reviews   \n",
       "minimum_nights                                  minimum_nights   \n",
       "id                                                          id   \n",
       "accommodates                                      accommodates   \n",
       "room_type                                            room_type   \n",
       "longitude                                            longitude   \n",
       "street                                                  street   \n",
       "host_id                                                host_id   \n",
       "latitude                                              latitude   \n",
       "\n",
       "                                percent_missing  \n",
       "neighbourhood_group_cleansed         100.000000  \n",
       "state                                 19.252548  \n",
       "neighbourhood                         17.319743  \n",
       "review_scores_rating                  16.436391  \n",
       "reviews_per_month                     15.341638  \n",
       "last_review                           15.341638  \n",
       "market                                 1.547754  \n",
       "host_name                              0.143450  \n",
       "host_identity_verified                 0.143450  \n",
       "city                                   0.120800  \n",
       "name                                   0.007550  \n",
       "price                                  0.000000  \n",
       "calculated_host_listings_count         0.000000  \n",
       "number_of_reviews                      0.000000  \n",
       "minimum_nights                         0.000000  \n",
       "id                                     0.000000  \n",
       "accommodates                           0.000000  \n",
       "room_type                              0.000000  \n",
       "longitude                              0.000000  \n",
       "street                                 0.000000  \n",
       "host_id                                0.000000  \n",
       "latitude                               0.000000  "
      ]
     },
     "execution_count": 21,
     "metadata": {},
     "output_type": "execute_result"
    }
   ],
   "source": [
    "# Null Value Percentage Per column\n",
    "percent_missing = air_data_listings.isnull().sum() * 100 / len(air_data_listings)\n",
    "missing_value_df = pd.DataFrame({'column_name': air_data_listings.columns,\n",
    "                                 'percent_missing': percent_missing})\n",
    "missing_value_df.sort_values('percent_missing' , ascending=False)"
   ]
  },
  {
   "cell_type": "code",
   "execution_count": 22,
   "id": "6f8ba7b6",
   "metadata": {
    "execution": {
     "iopub.execute_input": "2022-07-16T17:54:49.703851Z",
     "iopub.status.busy": "2022-07-16T17:54:49.703502Z",
     "iopub.status.idle": "2022-07-16T17:54:49.710054Z",
     "shell.execute_reply": "2022-07-16T17:54:49.709167Z"
    },
    "papermill": {
     "duration": 0.024221,
     "end_time": "2022-07-16T17:54:49.712085",
     "exception": false,
     "start_time": "2022-07-16T17:54:49.687864",
     "status": "completed"
    },
    "tags": []
   },
   "outputs": [],
   "source": [
    "# neighbourhood_group_cleansed has 100 percent Null values so we will be dropping that column \n",
    "air_data_listings = air_data_listings.drop(['neighbourhood_group_cleansed'], axis = 1) "
   ]
  },
  {
   "cell_type": "markdown",
   "id": "b46ef422",
   "metadata": {
    "papermill": {
     "duration": 0.023425,
     "end_time": "2022-07-16T17:54:49.758760",
     "exception": false,
     "start_time": "2022-07-16T17:54:49.735335",
     "status": "completed"
    },
    "tags": []
   },
   "source": [
    "### Replacing Null ratings with AVG ratings of the Host."
   ]
  },
  {
   "cell_type": "code",
   "execution_count": 23,
   "id": "dceaccbe",
   "metadata": {
    "execution": {
     "iopub.execute_input": "2022-07-16T17:54:49.807063Z",
     "iopub.status.busy": "2022-07-16T17:54:49.806764Z",
     "iopub.status.idle": "2022-07-16T17:54:49.818472Z",
     "shell.execute_reply": "2022-07-16T17:54:49.817265Z"
    },
    "papermill": {
     "duration": 0.038596,
     "end_time": "2022-07-16T17:54:49.820854",
     "exception": false,
     "start_time": "2022-07-16T17:54:49.782258",
     "status": "completed"
    },
    "tags": []
   },
   "outputs": [],
   "source": [
    "air_data_listings['review_scores_rating'].fillna(air_data_listings.groupby('host_name')['review_scores_rating'].transform('mean'), inplace=True)"
   ]
  },
  {
   "cell_type": "code",
   "execution_count": 24,
   "id": "e7ed52ad",
   "metadata": {
    "execution": {
     "iopub.execute_input": "2022-07-16T17:54:49.868591Z",
     "iopub.status.busy": "2022-07-16T17:54:49.868268Z",
     "iopub.status.idle": "2022-07-16T17:54:49.874879Z",
     "shell.execute_reply": "2022-07-16T17:54:49.874083Z"
    },
    "papermill": {
     "duration": 0.033485,
     "end_time": "2022-07-16T17:54:49.877494",
     "exception": false,
     "start_time": "2022-07-16T17:54:49.844009",
     "status": "completed"
    },
    "tags": []
   },
   "outputs": [],
   "source": [
    "air_data_listings['reviews_per_month'] = air_data_listings['reviews_per_month'].fillna(air_data_listings['reviews_per_month'].median())"
   ]
  },
  {
   "cell_type": "code",
   "execution_count": 25,
   "id": "ec05fcad",
   "metadata": {
    "execution": {
     "iopub.execute_input": "2022-07-16T17:54:49.926802Z",
     "iopub.status.busy": "2022-07-16T17:54:49.926430Z",
     "iopub.status.idle": "2022-07-16T17:54:50.522217Z",
     "shell.execute_reply": "2022-07-16T17:54:50.521352Z"
    },
    "papermill": {
     "duration": 0.623124,
     "end_time": "2022-07-16T17:54:50.524359",
     "exception": false,
     "start_time": "2022-07-16T17:54:49.901235",
     "status": "completed"
    },
    "tags": []
   },
   "outputs": [
    {
     "data": {
      "text/plain": [
       "<AxesSubplot:>"
      ]
     },
     "execution_count": 25,
     "metadata": {},
     "output_type": "execute_result"
    },
    {
     "data": {
      "image/png": "[encoded data removed]",
      "text/plain": [
       "<Figure size 432x288 with 1 Axes>"
      ]
     },
     "metadata": {
      "needs_background": "light"
     },
     "output_type": "display_data"
    }
   ],
   "source": [
    "# Plot to see null values in our data\n",
    "sns.heatmap(air_data_listings.isnull(), cbar=False)"
   ]
  },
  {
   "cell_type": "markdown",
   "id": "367d58d0",
   "metadata": {
    "papermill": {
     "duration": 0.023076,
     "end_time": "2022-07-16T17:54:50.570994",
     "exception": false,
     "start_time": "2022-07-16T17:54:50.547918",
     "status": "completed"
    },
    "tags": []
   },
   "source": [
    "### Taking Care of Data Types"
   ]
  },
  {
   "cell_type": "code",
   "execution_count": 26,
   "id": "d92ed622",
   "metadata": {
    "execution": {
     "iopub.execute_input": "2022-07-16T17:54:50.620067Z",
     "iopub.status.busy": "2022-07-16T17:54:50.619504Z",
     "iopub.status.idle": "2022-07-16T17:54:50.626337Z",
     "shell.execute_reply": "2022-07-16T17:54:50.625628Z"
    },
    "papermill": {
     "duration": 0.033889,
     "end_time": "2022-07-16T17:54:50.628302",
     "exception": false,
     "start_time": "2022-07-16T17:54:50.594413",
     "status": "completed"
    },
    "tags": []
   },
   "outputs": [
    {
     "data": {
      "text/plain": [
       "id                                  int64\n",
       "name                               object\n",
       "host_id                             int64\n",
       "host_name                          object\n",
       "host_identity_verified             object\n",
       "street                             object\n",
       "neighbourhood                      object\n",
       "city                               object\n",
       "state                              object\n",
       "market                             object\n",
       "latitude                          float64\n",
       "longitude                         float64\n",
       "room_type                          object\n",
       "accommodates                        int64\n",
       "price                              object\n",
       "minimum_nights                      int64\n",
       "number_of_reviews                   int64\n",
       "last_review                        object\n",
       "review_scores_rating              float64\n",
       "calculated_host_listings_count      int64\n",
       "reviews_per_month                 float64\n",
       "dtype: object"
      ]
     },
     "execution_count": 26,
     "metadata": {},
     "output_type": "execute_result"
    }
   ],
   "source": [
    "air_data_listings.dtypes"
   ]
  },
  {
   "cell_type": "code",
   "execution_count": 27,
   "id": "ab1edf0d",
   "metadata": {
    "execution": {
     "iopub.execute_input": "2022-07-16T17:54:50.677219Z",
     "iopub.status.busy": "2022-07-16T17:54:50.676659Z",
     "iopub.status.idle": "2022-07-16T17:54:50.684621Z",
     "shell.execute_reply": "2022-07-16T17:54:50.683983Z"
    },
    "papermill": {
     "duration": 0.035015,
     "end_time": "2022-07-16T17:54:50.686973",
     "exception": false,
     "start_time": "2022-07-16T17:54:50.651958",
     "status": "completed"
    },
    "tags": []
   },
   "outputs": [],
   "source": [
    "air_data_listings['last_review'] = pd.to_datetime(air_data_listings['last_review'])"
   ]
  },
  {
   "cell_type": "code",
   "execution_count": 28,
   "id": "f81a64e4",
   "metadata": {
    "execution": {
     "iopub.execute_input": "2022-07-16T17:54:50.736296Z",
     "iopub.status.busy": "2022-07-16T17:54:50.735990Z",
     "iopub.status.idle": "2022-07-16T17:54:50.751314Z",
     "shell.execute_reply": "2022-07-16T17:54:50.750533Z"
    },
    "papermill": {
     "duration": 0.042604,
     "end_time": "2022-07-16T17:54:50.753561",
     "exception": false,
     "start_time": "2022-07-16T17:54:50.710957",
     "status": "completed"
    },
    "tags": []
   },
   "outputs": [],
   "source": [
    "air_data_listings['price'] = air_data_listings['price'].str.replace('$','')\n",
    "air_data_listings['price'] = air_data_listings['price'].str.replace(',','')"
   ]
  },
  {
   "cell_type": "code",
   "execution_count": 29,
   "id": "8395d6c3",
   "metadata": {
    "execution": {
     "iopub.execute_input": "2022-07-16T17:54:50.804094Z",
     "iopub.status.busy": "2022-07-16T17:54:50.802737Z",
     "iopub.status.idle": "2022-07-16T17:54:50.814551Z",
     "shell.execute_reply": "2022-07-16T17:54:50.813357Z"
    },
    "papermill": {
     "duration": 0.039825,
     "end_time": "2022-07-16T17:54:50.817295",
     "exception": false,
     "start_time": "2022-07-16T17:54:50.777470",
     "status": "completed"
    },
    "tags": []
   },
   "outputs": [],
   "source": [
    "air_data_listings['price'] = [x.split('.')[0] for x in air_data_listings['price']]"
   ]
  },
  {
   "cell_type": "code",
   "execution_count": 30,
   "id": "5af16a9f",
   "metadata": {
    "execution": {
     "iopub.execute_input": "2022-07-16T17:54:50.867314Z",
     "iopub.status.busy": "2022-07-16T17:54:50.866844Z",
     "iopub.status.idle": "2022-07-16T17:54:54.064913Z",
     "shell.execute_reply": "2022-07-16T17:54:54.063936Z"
    },
    "papermill": {
     "duration": 3.225857,
     "end_time": "2022-07-16T17:54:54.067608",
     "exception": false,
     "start_time": "2022-07-16T17:54:50.841751",
     "status": "completed"
    },
    "tags": []
   },
   "outputs": [],
   "source": [
    "air_data_cal['price'] = air_data_cal['price'].astype(str).astype(int)"
   ]
  },
  {
   "cell_type": "markdown",
   "id": "7f75ce73",
   "metadata": {
    "papermill": {
     "duration": 0.023849,
     "end_time": "2022-07-16T17:54:54.115696",
     "exception": false,
     "start_time": "2022-07-16T17:54:54.091847",
     "status": "completed"
    },
    "tags": []
   },
   "source": [
    "<a id=\"4\"></a> \n",
    "# <b>4 <span style='color:#FE5F64'>|</span> EDA Airbnb Dataset One</b>"
   ]
  },
  {
   "cell_type": "code",
   "execution_count": 31,
   "id": "3f545cd5",
   "metadata": {
    "execution": {
     "iopub.execute_input": "2022-07-16T17:54:54.164333Z",
     "iopub.status.busy": "2022-07-16T17:54:54.163969Z",
     "iopub.status.idle": "2022-07-16T17:54:54.179125Z",
     "shell.execute_reply": "2022-07-16T17:54:54.178165Z"
    },
    "papermill": {
     "duration": 0.041944,
     "end_time": "2022-07-16T17:54:54.181254",
     "exception": false,
     "start_time": "2022-07-16T17:54:54.139310",
     "status": "completed"
    },
    "tags": []
   },
   "outputs": [
    {
     "data": {
      "text/html": [
       "<div>\n",
       "<style scoped>\n",
       "    .dataframe tbody tr th:only-of-type {\n",
       "        vertical-align: middle;\n",
       "    }\n",
       "\n",
       "    .dataframe tbody tr th {\n",
       "        vertical-align: top;\n",
       "    }\n",
       "\n",
       "    .dataframe thead th {\n",
       "        text-align: right;\n",
       "    }\n",
       "</style>\n",
       "<table border=\"1\" class=\"dataframe\">\n",
       "  <thead>\n",
       "    <tr style=\"text-align: right;\">\n",
       "      <th></th>\n",
       "      <th>listing_id</th>\n",
       "      <th>date</th>\n",
       "      <th>available</th>\n",
       "      <th>price</th>\n",
       "      <th>adjusted_price</th>\n",
       "      <th>minimum_nights</th>\n",
       "      <th>maximum_nights</th>\n",
       "      <th>year</th>\n",
       "      <th>month</th>\n",
       "      <th>day</th>\n",
       "      <th>dayOfWeek</th>\n",
       "      <th>Weekday_Name</th>\n",
       "      <th>Month_Name</th>\n",
       "    </tr>\n",
       "  </thead>\n",
       "  <tbody>\n",
       "    <tr>\n",
       "      <th>0</th>\n",
       "      <td>568026</td>\n",
       "      <td>2019-06-25</td>\n",
       "      <td>f</td>\n",
       "      <td>64</td>\n",
       "      <td>64</td>\n",
       "      <td>3.0</td>\n",
       "      <td>60.0</td>\n",
       "      <td>2019</td>\n",
       "      <td>6</td>\n",
       "      <td>25</td>\n",
       "      <td>1</td>\n",
       "      <td>Tuesday</td>\n",
       "      <td>June</td>\n",
       "    </tr>\n",
       "    <tr>\n",
       "      <th>1</th>\n",
       "      <td>327159</td>\n",
       "      <td>2019-06-25</td>\n",
       "      <td>t</td>\n",
       "      <td>113</td>\n",
       "      <td>113</td>\n",
       "      <td>1.0</td>\n",
       "      <td>1.0</td>\n",
       "      <td>2019</td>\n",
       "      <td>6</td>\n",
       "      <td>25</td>\n",
       "      <td>1</td>\n",
       "      <td>Tuesday</td>\n",
       "      <td>June</td>\n",
       "    </tr>\n",
       "    <tr>\n",
       "      <th>2</th>\n",
       "      <td>327159</td>\n",
       "      <td>2019-06-26</td>\n",
       "      <td>t</td>\n",
       "      <td>113</td>\n",
       "      <td>113</td>\n",
       "      <td>1.0</td>\n",
       "      <td>56.0</td>\n",
       "      <td>2019</td>\n",
       "      <td>6</td>\n",
       "      <td>26</td>\n",
       "      <td>2</td>\n",
       "      <td>Wednesday</td>\n",
       "      <td>June</td>\n",
       "    </tr>\n",
       "    <tr>\n",
       "      <th>3</th>\n",
       "      <td>327159</td>\n",
       "      <td>2019-06-27</td>\n",
       "      <td>t</td>\n",
       "      <td>113</td>\n",
       "      <td>113</td>\n",
       "      <td>1.0</td>\n",
       "      <td>56.0</td>\n",
       "      <td>2019</td>\n",
       "      <td>6</td>\n",
       "      <td>27</td>\n",
       "      <td>3</td>\n",
       "      <td>Thursday</td>\n",
       "      <td>June</td>\n",
       "    </tr>\n",
       "    <tr>\n",
       "      <th>4</th>\n",
       "      <td>327159</td>\n",
       "      <td>2019-06-28</td>\n",
       "      <td>t</td>\n",
       "      <td>113</td>\n",
       "      <td>113</td>\n",
       "      <td>1.0</td>\n",
       "      <td>56.0</td>\n",
       "      <td>2019</td>\n",
       "      <td>6</td>\n",
       "      <td>28</td>\n",
       "      <td>4</td>\n",
       "      <td>Friday</td>\n",
       "      <td>June</td>\n",
       "    </tr>\n",
       "  </tbody>\n",
       "</table>\n",
       "</div>"
      ],
      "text/plain": [
       "   listing_id       date available  price  adjusted_price  minimum_nights  \\\n",
       "0      568026 2019-06-25         f     64              64             3.0   \n",
       "1      327159 2019-06-25         t    113             113             1.0   \n",
       "2      327159 2019-06-26         t    113             113             1.0   \n",
       "3      327159 2019-06-27         t    113             113             1.0   \n",
       "4      327159 2019-06-28         t    113             113             1.0   \n",
       "\n",
       "   maximum_nights  year  month  day  dayOfWeek Weekday_Name Month_Name  \n",
       "0            60.0  2019      6   25          1      Tuesday       June  \n",
       "1             1.0  2019      6   25          1      Tuesday       June  \n",
       "2            56.0  2019      6   26          2    Wednesday       June  \n",
       "3            56.0  2019      6   27          3     Thursday       June  \n",
       "4            56.0  2019      6   28          4       Friday       June  "
      ]
     },
     "execution_count": 31,
     "metadata": {},
     "output_type": "execute_result"
    }
   ],
   "source": [
    "air_data_cal.head(5)"
   ]
  },
  {
   "cell_type": "code",
   "execution_count": 32,
   "id": "b6e9ed63",
   "metadata": {
    "execution": {
     "iopub.execute_input": "2022-07-16T17:54:54.231385Z",
     "iopub.status.busy": "2022-07-16T17:54:54.230819Z",
     "iopub.status.idle": "2022-07-16T17:54:54.237338Z",
     "shell.execute_reply": "2022-07-16T17:54:54.236630Z"
    },
    "papermill": {
     "duration": 0.034404,
     "end_time": "2022-07-16T17:54:54.240102",
     "exception": false,
     "start_time": "2022-07-16T17:54:54.205698",
     "status": "completed"
    },
    "tags": []
   },
   "outputs": [
    {
     "data": {
      "text/plain": [
       "listing_id                 int64\n",
       "date              datetime64[ns]\n",
       "available                 object\n",
       "price                      int64\n",
       "adjusted_price             int64\n",
       "minimum_nights           float64\n",
       "maximum_nights           float64\n",
       "year                       int64\n",
       "month                      int64\n",
       "day                        int64\n",
       "dayOfWeek                  int64\n",
       "Weekday_Name              object\n",
       "Month_Name                object\n",
       "dtype: object"
      ]
     },
     "execution_count": 32,
     "metadata": {},
     "output_type": "execute_result"
    }
   ],
   "source": [
    "air_data_cal.dtypes"
   ]
  },
  {
   "cell_type": "markdown",
   "id": "87eba019",
   "metadata": {
    "papermill": {
     "duration": 0.024158,
     "end_time": "2022-07-16T17:54:54.288840",
     "exception": false,
     "start_time": "2022-07-16T17:54:54.264682",
     "status": "completed"
    },
    "tags": []
   },
   "source": [
    "## Correlation Heatmap"
   ]
  },
  {
   "cell_type": "code",
   "execution_count": 33,
   "id": "59d36787",
   "metadata": {
    "execution": {
     "iopub.execute_input": "2022-07-16T17:54:54.338657Z",
     "iopub.status.busy": "2022-07-16T17:54:54.338329Z",
     "iopub.status.idle": "2022-07-16T17:54:56.137287Z",
     "shell.execute_reply": "2022-07-16T17:54:56.136299Z"
    },
    "papermill": {
     "duration": 1.826398,
     "end_time": "2022-07-16T17:54:56.139529",
     "exception": false,
     "start_time": "2022-07-16T17:54:54.313131",
     "status": "completed"
    },
    "tags": []
   },
   "outputs": [
    {
     "data": {
      "image/png": "[encoded data removed]",
      "text/plain": [
       "<Figure size 1080x720 with 2 Axes>"
      ]
     },
     "metadata": {
      "needs_background": "light"
     },
     "output_type": "display_data"
    }
   ],
   "source": [
    "plt.figure(figsize=(15,10))\n",
    "data = air_data_cal.corr()\n",
    "ax = sns.heatmap(\n",
    "    data,\n",
    "    vmin=-1, vmax=1, \n",
    "    cmap='rocket_r', \n",
    "    annot=True\n",
    ")\n",
    "ax.set_xticklabels(\n",
    "    ax.get_xticklabels(),\n",
    "    rotation=45,\n",
    "    horizontalalignment='right', size=14\n",
    ");\n",
    "ax.set_yticklabels(\n",
    "    ax.get_yticklabels(),\n",
    "    size=14\n",
    ");"
   ]
  },
  {
   "cell_type": "code",
   "execution_count": 34,
   "id": "5a3a32b3",
   "metadata": {
    "execution": {
     "iopub.execute_input": "2022-07-16T17:54:56.183812Z",
     "iopub.status.busy": "2022-07-16T17:54:56.183463Z",
     "iopub.status.idle": "2022-07-16T17:54:57.364939Z",
     "shell.execute_reply": "2022-07-16T17:54:57.363651Z"
    },
    "papermill": {
     "duration": 1.201587,
     "end_time": "2022-07-16T17:54:57.367249",
     "exception": false,
     "start_time": "2022-07-16T17:54:56.165662",
     "status": "completed"
    },
    "tags": []
   },
   "outputs": [],
   "source": [
    "data = air_data_cal\n",
    "AVG_Price_Month = data[['Month_Name','maximum_nights', 'minimum_nights', 'price']].groupby(['Month_Name']).mean().reset_index().sort_values('price', ascending = False)"
   ]
  },
  {
   "cell_type": "code",
   "execution_count": 35,
   "id": "904893e6",
   "metadata": {
    "execution": {
     "iopub.execute_input": "2022-07-16T17:54:57.402536Z",
     "iopub.status.busy": "2022-07-16T17:54:57.402142Z",
     "iopub.status.idle": "2022-07-16T17:54:57.418280Z",
     "shell.execute_reply": "2022-07-16T17:54:57.417440Z"
    },
    "papermill": {
     "duration": 0.03679,
     "end_time": "2022-07-16T17:54:57.420984",
     "exception": false,
     "start_time": "2022-07-16T17:54:57.384194",
     "status": "completed"
    },
    "tags": []
   },
   "outputs": [
    {
     "data": {
      "text/html": [
       "<div>\n",
       "<style scoped>\n",
       "    .dataframe tbody tr th:only-of-type {\n",
       "        vertical-align: middle;\n",
       "    }\n",
       "\n",
       "    .dataframe tbody tr th {\n",
       "        vertical-align: top;\n",
       "    }\n",
       "\n",
       "    .dataframe thead th {\n",
       "        text-align: right;\n",
       "    }\n",
       "</style>\n",
       "<table border=\"1\" class=\"dataframe\">\n",
       "  <thead>\n",
       "    <tr style=\"text-align: right;\">\n",
       "      <th></th>\n",
       "      <th>Month_Name</th>\n",
       "      <th>maximum_nights</th>\n",
       "      <th>minimum_nights</th>\n",
       "      <th>price</th>\n",
       "    </tr>\n",
       "  </thead>\n",
       "  <tbody>\n",
       "    <tr>\n",
       "      <th>1</th>\n",
       "      <td>August</td>\n",
       "      <td>606.434774</td>\n",
       "      <td>3.112848</td>\n",
       "      <td>143.296389</td>\n",
       "    </tr>\n",
       "    <tr>\n",
       "      <th>8</th>\n",
       "      <td>May</td>\n",
       "      <td>606.527970</td>\n",
       "      <td>3.023736</td>\n",
       "      <td>127.887636</td>\n",
       "    </tr>\n",
       "    <tr>\n",
       "      <th>2</th>\n",
       "      <td>December</td>\n",
       "      <td>605.809150</td>\n",
       "      <td>3.131477</td>\n",
       "      <td>126.393064</td>\n",
       "    </tr>\n",
       "    <tr>\n",
       "      <th>0</th>\n",
       "      <td>April</td>\n",
       "      <td>606.321278</td>\n",
       "      <td>3.025519</td>\n",
       "      <td>126.383322</td>\n",
       "    </tr>\n",
       "    <tr>\n",
       "      <th>3</th>\n",
       "      <td>February</td>\n",
       "      <td>606.409966</td>\n",
       "      <td>3.061074</td>\n",
       "      <td>125.191047</td>\n",
       "    </tr>\n",
       "    <tr>\n",
       "      <th>6</th>\n",
       "      <td>June</td>\n",
       "      <td>606.550085</td>\n",
       "      <td>2.959714</td>\n",
       "      <td>124.848013</td>\n",
       "    </tr>\n",
       "    <tr>\n",
       "      <th>4</th>\n",
       "      <td>January</td>\n",
       "      <td>606.324020</td>\n",
       "      <td>3.071292</td>\n",
       "      <td>124.783127</td>\n",
       "    </tr>\n",
       "    <tr>\n",
       "      <th>7</th>\n",
       "      <td>March</td>\n",
       "      <td>606.372440</td>\n",
       "      <td>3.040193</td>\n",
       "      <td>124.499327</td>\n",
       "    </tr>\n",
       "    <tr>\n",
       "      <th>11</th>\n",
       "      <td>September</td>\n",
       "      <td>605.781643</td>\n",
       "      <td>3.101875</td>\n",
       "      <td>120.464404</td>\n",
       "    </tr>\n",
       "    <tr>\n",
       "      <th>9</th>\n",
       "      <td>November</td>\n",
       "      <td>605.762617</td>\n",
       "      <td>3.125386</td>\n",
       "      <td>118.602529</td>\n",
       "    </tr>\n",
       "    <tr>\n",
       "      <th>10</th>\n",
       "      <td>October</td>\n",
       "      <td>605.671484</td>\n",
       "      <td>3.125372</td>\n",
       "      <td>117.903793</td>\n",
       "    </tr>\n",
       "    <tr>\n",
       "      <th>5</th>\n",
       "      <td>July</td>\n",
       "      <td>606.326229</td>\n",
       "      <td>2.922510</td>\n",
       "      <td>107.458362</td>\n",
       "    </tr>\n",
       "  </tbody>\n",
       "</table>\n",
       "</div>"
      ],
      "text/plain": [
       "   Month_Name  maximum_nights  minimum_nights       price\n",
       "1      August      606.434774        3.112848  143.296389\n",
       "8         May      606.527970        3.023736  127.887636\n",
       "2    December      605.809150        3.131477  126.393064\n",
       "0       April      606.321278        3.025519  126.383322\n",
       "3    February      606.409966        3.061074  125.191047\n",
       "6        June      606.550085        2.959714  124.848013\n",
       "4     January      606.324020        3.071292  124.783127\n",
       "7       March      606.372440        3.040193  124.499327\n",
       "11  September      605.781643        3.101875  120.464404\n",
       "9    November      605.762617        3.125386  118.602529\n",
       "10    October      605.671484        3.125372  117.903793\n",
       "5        July      606.326229        2.922510  107.458362"
      ]
     },
     "execution_count": 35,
     "metadata": {},
     "output_type": "execute_result"
    }
   ],
   "source": [
    "AVG_Price_Month"
   ]
  },
  {
   "cell_type": "markdown",
   "id": "62497d41",
   "metadata": {
    "papermill": {
     "duration": 0.025981,
     "end_time": "2022-07-16T17:54:57.473098",
     "exception": false,
     "start_time": "2022-07-16T17:54:57.447117",
     "status": "completed"
    },
    "tags": []
   },
   "source": [
    "## Trend of Price Across Months"
   ]
  },
  {
   "cell_type": "code",
   "execution_count": 36,
   "id": "dd0415f5",
   "metadata": {
    "execution": {
     "iopub.execute_input": "2022-07-16T17:54:57.528156Z",
     "iopub.status.busy": "2022-07-16T17:54:57.527280Z",
     "iopub.status.idle": "2022-07-16T17:54:58.573089Z",
     "shell.execute_reply": "2022-07-16T17:54:58.571937Z"
    },
    "papermill": {
     "duration": 1.076056,
     "end_time": "2022-07-16T17:54:58.575392",
     "exception": false,
     "start_time": "2022-07-16T17:54:57.499336",
     "status": "completed"
    },
    "tags": []
   },
   "outputs": [
    {
     "data": {
      "text/html": [
       "        <script type=\"text/javascript\">\n",
       "        window.PlotlyConfig = {MathJaxConfig: 'local'};\n",
       "        if (window.MathJax && window.MathJax.Hub && window.MathJax.Hub.Config) {window.MathJax.Hub.Config({SVG: {font: \"STIX-Web\"}});}\n",
       "        if (typeof require !== 'undefined') {\n",
       "        require.undef(\"plotly\");\n",
       "        requirejs.config({\n",
       "            paths: {\n",
       "                'plotly': ['https://cdn.plot.ly/plotly-2.12.1.min']\n",
       "            }\n",
       "        });\n",
       "        require(['plotly'], function(Plotly) {\n",
       "            window._Plotly = Plotly;\n",
       "        });\n",
       "        }\n",
       "        </script>\n",
       "        "
      ]
     },
     "metadata": {},
     "output_type": "display_data"
    },
    {
     "data": {
      "text/html": [
       "<div>                            <div id=\"8e10bdf9-c1a9-4c2b-86a6-96a43cb23714\" class=\"plotly-graph-div\" style=\"height:800px; width:100%;\"></div>            <script type=\"text/javascript\">                require([\"plotly\"], function(Plotly) {                    window.PLOTLYENV=window.PLOTLYENV || {};                                    if (document.getElementById(\"8e10bdf9-c1a9-4c2b-86a6-96a43cb23714\")) {                    Plotly.newPlot(                        \"8e10bdf9-c1a9-4c2b-86a6-96a43cb23714\",                        [{\"alignmentgroup\":\"True\",\"hovertemplate\":\"Month_Name=%{x}<br>price=%{marker.color}<extra></extra>\",\"legendgroup\":\"\",\"marker\":{\"color\":[143.29638938613476,127.88763623521962,126.3930637245948,126.38332200830502,125.1910467189961,124.84801290893475,124.78312692555924,124.49932658702615,120.46440417767711,118.60252925632314,117.90379327561222,107.45836164590412],\"coloraxis\":\"coloraxis\",\"pattern\":{\"shape\":\"\"}},\"name\":\"\",\"offsetgroup\":\"\",\"orientation\":\"v\",\"showlegend\":false,\"textposition\":\"auto\",\"x\":[\"August\",\"May\",\"December\",\"April\",\"February\",\"June\",\"January\",\"March\",\"September\",\"November\",\"October\",\"July\"],\"xaxis\":\"x\",\"y\":[143.29638938613476,127.88763623521962,126.3930637245948,126.38332200830502,125.1910467189961,124.84801290893475,124.78312692555924,124.49932658702615,120.46440417767711,118.60252925632314,117.90379327561222,107.45836164590412],\"yaxis\":\"y\",\"type\":\"bar\"}],                        {\"template\":{\"data\":{\"barpolar\":[{\"marker\":{\"line\":{\"color\":\"white\",\"width\":0.5},\"pattern\":{\"fillmode\":\"overlay\",\"size\":10,\"solidity\":0.2}},\"type\":\"barpolar\"}],\"bar\":[{\"error_x\":{\"color\":\"#2a3f5f\"},\"error_y\":{\"color\":\"#2a3f5f\"},\"marker\":{\"line\":{\"color\":\"white\",\"width\":0.5},\"pattern\":{\"fillmode\":\"overlay\",\"size\":10,\"solidity\":0.2}},\"type\":\"bar\"}],\"carpet\":[{\"aaxis\":{\"endlinecolor\":\"#2a3f5f\",\"gridcolor\":\"#C8D4E3\",\"linecolor\":\"#C8D4E3\",\"minorgridcolor\":\"#C8D4E3\",\"startlinecolor\":\"#2a3f5f\"},\"baxis\":{\"endlinecolor\":\"#2a3f5f\",\"gridcolor\":\"#C8D4E3\",\"linecolor\":\"#C8D4E3\",\"minorgridcolor\":\"#C8D4E3\",\"startlinecolor\":\"#2a3f5f\"},\"type\":\"carpet\"}],\"choropleth\":[{\"colorbar\":{\"outlinewidth\":0,\"ticks\":\"\"},\"type\":\"choropleth\"}],\"contourcarpet\":[{\"colorbar\":{\"outlinewidth\":0,\"ticks\":\"\"},\"type\":\"contourcarpet\"}],\"contour\":[{\"colorbar\":{\"outlinewidth\":0,\"ticks\":\"\"},\"colorscale\":[[0.0,\"#0d0887\"],[0.1111111111111111,\"#46039f\"],[0.2222222222222222,\"#7201a8\"],[0.3333333333333333,\"#9c179e\"],[0.4444444444444444,\"#bd3786\"],[0.5555555555555556,\"#d8576b\"],[0.6666666666666666,\"#ed7953\"],[0.7777777777777778,\"#fb9f3a\"],[0.8888888888888888,\"#fdca26\"],[1.0,\"#f0f921\"]],\"type\":\"contour\"}],\"heatmapgl\":[{\"colorbar\":{\"outlinewidth\":0,\"ticks\":\"\"},\"colorscale\":[[0.0,\"#0d0887\"],[0.1111111111111111,\"#46039f\"],[0.2222222222222222,\"#7201a8\"],[0.3333333333333333,\"#9c179e\"],[0.4444444444444444,\"#bd3786\"],[0.5555555555555556,\"#d8576b\"],[0.6666666666666666,\"#ed7953\"],[0.7777777777777778,\"#fb9f3a\"],[0.8888888888888888,\"#fdca26\"],[1.0,\"#f0f921\"]],\"type\":\"heatmapgl\"}],\"heatmap\":[{\"colorbar\":{\"outlinewidth\":0,\"ticks\":\"\"},\"colorscale\":[[0.0,\"#0d0887\"],[0.1111111111111111,\"#46039f\"],[0.2222222222222222,\"#7201a8\"],[0.3333333333333333,\"#9c179e\"],[0.4444444444444444,\"#bd3786\"],[0.5555555555555556,\"#d8576b\"],[0.6666666666666666,\"#ed7953\"],[0.7777777777777778,\"#fb9f3a\"],[0.8888888888888888,\"#fdca26\"],[1.0,\"#f0f921\"]],\"type\":\"heatmap\"}],\"histogram2dcontour\":[{\"colorbar\":{\"outlinewidth\":0,\"ticks\":\"\"},\"colorscale\":[[0.0,\"#0d0887\"],[0.1111111111111111,\"#46039f\"],[0.2222222222222222,\"#7201a8\"],[0.3333333333333333,\"#9c179e\"],[0.4444444444444444,\"#bd3786\"],[0.5555555555555556,\"#d8576b\"],[0.6666666666666666,\"#ed7953\"],[0.7777777777777778,\"#fb9f3a\"],[0.8888888888888888,\"#fdca26\"],[1.0,\"#f0f921\"]],\"type\":\"histogram2dcontour\"}],\"histogram2d\":[{\"colorbar\":{\"outlinewidth\":0,\"ticks\":\"\"},\"colorscale\":[[0.0,\"#0d0887\"],[0.1111111111111111,\"#46039f\"],[0.2222222222222222,\"#7201a8\"],[0.3333333333333333,\"#9c179e\"],[0.4444444444444444,\"#bd3786\"],[0.5555555555555556,\"#d8576b\"],[0.6666666666666666,\"#ed7953\"],[0.7777777777777778,\"#fb9f3a\"],[0.8888888888888888,\"#fdca26\"],[1.0,\"#f0f921\"]],\"type\":\"histogram2d\"}],\"histogram\":[{\"marker\":{\"pattern\":{\"fillmode\":\"overlay\",\"size\":10,\"solidity\":0.2}},\"type\":\"histogram\"}],\"mesh3d\":[{\"colorbar\":{\"outlinewidth\":0,\"ticks\":\"\"},\"type\":\"mesh3d\"}],\"parcoords\":[{\"line\":{\"colorbar\":{\"outlinewidth\":0,\"ticks\":\"\"}},\"type\":\"parcoords\"}],\"pie\":[{\"automargin\":true,\"type\":\"pie\"}],\"scatter3d\":[{\"line\":{\"colorbar\":{\"outlinewidth\":0,\"ticks\":\"\"}},\"marker\":{\"colorbar\":{\"outlinewidth\":0,\"ticks\":\"\"}},\"type\":\"scatter3d\"}],\"scattercarpet\":[{\"marker\":{\"colorbar\":{\"outlinewidth\":0,\"ticks\":\"\"}},\"type\":\"scattercarpet\"}],\"scattergeo\":[{\"marker\":{\"colorbar\":{\"outlinewidth\":0,\"ticks\":\"\"}},\"type\":\"scattergeo\"}],\"scattergl\":[{\"marker\":{\"colorbar\":{\"outlinewidth\":0,\"ticks\":\"\"}},\"type\":\"scattergl\"}],\"scattermapbox\":[{\"marker\":{\"colorbar\":{\"outlinewidth\":0,\"ticks\":\"\"}},\"type\":\"scattermapbox\"}],\"scatterpolargl\":[{\"marker\":{\"colorbar\":{\"outlinewidth\":0,\"ticks\":\"\"}},\"type\":\"scatterpolargl\"}],\"scatterpolar\":[{\"marker\":{\"colorbar\":{\"outlinewidth\":0,\"ticks\":\"\"}},\"type\":\"scatterpolar\"}],\"scatter\":[{\"fillpattern\":{\"fillmode\":\"overlay\",\"size\":10,\"solidity\":0.2},\"type\":\"scatter\"}],\"scatterternary\":[{\"marker\":{\"colorbar\":{\"outlinewidth\":0,\"ticks\":\"\"}},\"type\":\"scatterternary\"}],\"surface\":[{\"colorbar\":{\"outlinewidth\":0,\"ticks\":\"\"},\"colorscale\":[[0.0,\"#0d0887\"],[0.1111111111111111,\"#46039f\"],[0.2222222222222222,\"#7201a8\"],[0.3333333333333333,\"#9c179e\"],[0.4444444444444444,\"#bd3786\"],[0.5555555555555556,\"#d8576b\"],[0.6666666666666666,\"#ed7953\"],[0.7777777777777778,\"#fb9f3a\"],[0.8888888888888888,\"#fdca26\"],[1.0,\"#f0f921\"]],\"type\":\"surface\"}],\"table\":[{\"cells\":{\"fill\":{\"color\":\"#EBF0F8\"},\"line\":{\"color\":\"white\"}},\"header\":{\"fill\":{\"color\":\"#C8D4E3\"},\"line\":{\"color\":\"white\"}},\"type\":\"table\"}]},\"layout\":{\"annotationdefaults\":{\"arrowcolor\":\"#2a3f5f\",\"arrowhead\":0,\"arrowwidth\":1},\"autotypenumbers\":\"strict\",\"coloraxis\":{\"colorbar\":{\"outlinewidth\":0,\"ticks\":\"\"}},\"colorscale\":{\"diverging\":[[0,\"#8e0152\"],[0.1,\"#c51b7d\"],[0.2,\"#de77ae\"],[0.3,\"#f1b6da\"],[0.4,\"#fde0ef\"],[0.5,\"#f7f7f7\"],[0.6,\"#e6f5d0\"],[0.7,\"#b8e186\"],[0.8,\"#7fbc41\"],[0.9,\"#4d9221\"],[1,\"#276419\"]],\"sequential\":[[0.0,\"#0d0887\"],[0.1111111111111111,\"#46039f\"],[0.2222222222222222,\"#7201a8\"],[0.3333333333333333,\"#9c179e\"],[0.4444444444444444,\"#bd3786\"],[0.5555555555555556,\"#d8576b\"],[0.6666666666666666,\"#ed7953\"],[0.7777777777777778,\"#fb9f3a\"],[0.8888888888888888,\"#fdca26\"],[1.0,\"#f0f921\"]],\"sequentialminus\":[[0.0,\"#0d0887\"],[0.1111111111111111,\"#46039f\"],[0.2222222222222222,\"#7201a8\"],[0.3333333333333333,\"#9c179e\"],[0.4444444444444444,\"#bd3786\"],[0.5555555555555556,\"#d8576b\"],[0.6666666666666666,\"#ed7953\"],[0.7777777777777778,\"#fb9f3a\"],[0.8888888888888888,\"#fdca26\"],[1.0,\"#f0f921\"]]},\"colorway\":[\"#636efa\",\"#EF553B\",\"#00cc96\",\"#ab63fa\",\"#FFA15A\",\"#19d3f3\",\"#FF6692\",\"#B6E880\",\"#FF97FF\",\"#FECB52\"],\"font\":{\"color\":\"#2a3f5f\"},\"geo\":{\"bgcolor\":\"white\",\"lakecolor\":\"white\",\"landcolor\":\"white\",\"showlakes\":true,\"showland\":true,\"subunitcolor\":\"#C8D4E3\"},\"hoverlabel\":{\"align\":\"left\"},\"hovermode\":\"closest\",\"mapbox\":{\"style\":\"light\"},\"paper_bgcolor\":\"white\",\"plot_bgcolor\":\"white\",\"polar\":{\"angularaxis\":{\"gridcolor\":\"#EBF0F8\",\"linecolor\":\"#EBF0F8\",\"ticks\":\"\"},\"bgcolor\":\"white\",\"radialaxis\":{\"gridcolor\":\"#EBF0F8\",\"linecolor\":\"#EBF0F8\",\"ticks\":\"\"}},\"scene\":{\"xaxis\":{\"backgroundcolor\":\"white\",\"gridcolor\":\"#DFE8F3\",\"gridwidth\":2,\"linecolor\":\"#EBF0F8\",\"showbackground\":true,\"ticks\":\"\",\"zerolinecolor\":\"#EBF0F8\"},\"yaxis\":{\"backgroundcolor\":\"white\",\"gridcolor\":\"#DFE8F3\",\"gridwidth\":2,\"linecolor\":\"#EBF0F8\",\"showbackground\":true,\"ticks\":\"\",\"zerolinecolor\":\"#EBF0F8\"},\"zaxis\":{\"backgroundcolor\":\"white\",\"gridcolor\":\"#DFE8F3\",\"gridwidth\":2,\"linecolor\":\"#EBF0F8\",\"showbackground\":true,\"ticks\":\"\",\"zerolinecolor\":\"#EBF0F8\"}},\"shapedefaults\":{\"line\":{\"color\":\"#2a3f5f\"}},\"ternary\":{\"aaxis\":{\"gridcolor\":\"#DFE8F3\",\"linecolor\":\"#A2B1C6\",\"ticks\":\"\"},\"baxis\":{\"gridcolor\":\"#DFE8F3\",\"linecolor\":\"#A2B1C6\",\"ticks\":\"\"},\"bgcolor\":\"white\",\"caxis\":{\"gridcolor\":\"#DFE8F3\",\"linecolor\":\"#A2B1C6\",\"ticks\":\"\"}},\"title\":{\"x\":0.05},\"xaxis\":{\"automargin\":true,\"gridcolor\":\"#EBF0F8\",\"linecolor\":\"#EBF0F8\",\"ticks\":\"\",\"title\":{\"standoff\":15},\"zerolinecolor\":\"#EBF0F8\",\"zerolinewidth\":2},\"yaxis\":{\"automargin\":true,\"gridcolor\":\"#EBF0F8\",\"linecolor\":\"#EBF0F8\",\"ticks\":\"\",\"title\":{\"standoff\":15},\"zerolinecolor\":\"#EBF0F8\",\"zerolinewidth\":2}}},\"xaxis\":{\"anchor\":\"y\",\"domain\":[0.0,1.0],\"title\":{\"text\":\"Month_Name\"},\"rangeselector\":{\"font\":{\"size\":8}},\"tickangle\":45},\"yaxis\":{\"anchor\":\"x\",\"domain\":[0.0,1.0],\"title\":{\"text\":\"price\"}},\"coloraxis\":{\"colorbar\":{\"title\":{\"text\":\"price\"}},\"colorscale\":[[0.0,\"#0d0887\"],[0.1111111111111111,\"#46039f\"],[0.2222222222222222,\"#7201a8\"],[0.3333333333333333,\"#9c179e\"],[0.4444444444444444,\"#bd3786\"],[0.5555555555555556,\"#d8576b\"],[0.6666666666666666,\"#ed7953\"],[0.7777777777777778,\"#fb9f3a\"],[0.8888888888888888,\"#fdca26\"],[1.0,\"#f0f921\"]]},\"legend\":{\"tracegroupgap\":0},\"title\":{\"text\":\"Trend of Price Across Months\"},\"barmode\":\"relative\",\"height\":800},                        {\"responsive\": true}                    ).then(function(){\n",
       "                            \n",
       "var gd = document.getElementById('8e10bdf9-c1a9-4c2b-86a6-96a43cb23714');\n",
       "var x = new MutationObserver(function (mutations, observer) {{\n",
       "        var display = window.getComputedStyle(gd).display;\n",
       "        if (!display || display === 'none') {{\n",
       "            console.log([gd, 'removed!']);\n",
       "            Plotly.purge(gd);\n",
       "            observer.disconnect();\n",
       "        }}\n",
       "}});\n",
       "\n",
       "// Listen for the removal of the full notebook cells\n",
       "var notebookContainer = gd.closest('#notebook-container');\n",
       "if (notebookContainer) {{\n",
       "    x.observe(notebookContainer, {childList: true});\n",
       "}}\n",
       "\n",
       "// Listen for the clearing of the current output cell\n",
       "var outputEl = gd.closest('.output');\n",
       "if (outputEl) {{\n",
       "    x.observe(outputEl, {childList: true});\n",
       "}}\n",
       "\n",
       "                        })                };                });            </script>        </div>"
      ]
     },
     "metadata": {},
     "output_type": "display_data"
    }
   ],
   "source": [
    "fig = px.bar(AVG_Price_Month, x='Month_Name', y='price', template = 'plotly_white', title='Trend of Price Across Months', color='price', height=800)\n",
    "fig.update_xaxes(tickangle=45, rangeselector_font_size=8)\n",
    "fig.show()"
   ]
  },
  {
   "cell_type": "markdown",
   "id": "687c7605",
   "metadata": {
    "papermill": {
     "duration": 0.017028,
     "end_time": "2022-07-16T17:54:58.609792",
     "exception": false,
     "start_time": "2022-07-16T17:54:58.592764",
     "status": "completed"
    },
    "tags": []
   },
   "source": [
    "## Scatter Plot of cross Max-Min Nights and Price"
   ]
  },
  {
   "cell_type": "code",
   "execution_count": 37,
   "id": "409a6838",
   "metadata": {
    "execution": {
     "iopub.execute_input": "2022-07-16T17:54:58.645718Z",
     "iopub.status.busy": "2022-07-16T17:54:58.645340Z",
     "iopub.status.idle": "2022-07-16T17:54:58.745518Z",
     "shell.execute_reply": "2022-07-16T17:54:58.744401Z"
    },
    "papermill": {
     "duration": 0.120608,
     "end_time": "2022-07-16T17:54:58.747589",
     "exception": false,
     "start_time": "2022-07-16T17:54:58.626981",
     "status": "completed"
    },
    "tags": []
   },
   "outputs": [
    {
     "data": {
      "text/html": [
       "<div>                            <div id=\"756f74ad-520d-4d0c-bf34-0e546f143472\" class=\"plotly-graph-div\" style=\"height:525px; width:100%;\"></div>            <script type=\"text/javascript\">                require([\"plotly\"], function(Plotly) {                    window.PLOTLYENV=window.PLOTLYENV || {};                                    if (document.getElementById(\"756f74ad-520d-4d0c-bf34-0e546f143472\")) {                    Plotly.newPlot(                        \"756f74ad-520d-4d0c-bf34-0e546f143472\",                        [{\"customdata\":[[143.29638938613476,\"August\"],[127.88763623521962,\"May\"],[126.3930637245948,\"December\"],[126.38332200830502,\"April\"],[125.1910467189961,\"February\"],[124.84801290893475,\"June\"],[124.78312692555924,\"January\"],[124.49932658702615,\"March\"],[120.46440417767711,\"September\"],[118.60252925632314,\"November\"],[117.90379327561222,\"October\"],[107.45836164590412,\"July\"]],\"hovertemplate\":\"maximum_nights=%{x}<br>minimum_nights=%{y}<br>price=%{marker.color}<br>Month_Name=%{customdata[1]}<extra></extra>\",\"legendgroup\":\"\",\"marker\":{\"color\":[143.29638938613476,127.88763623521962,126.3930637245948,126.38332200830502,125.1910467189961,124.84801290893475,124.78312692555924,124.49932658702615,120.46440417767711,118.60252925632314,117.90379327561222,107.45836164590412],\"coloraxis\":\"coloraxis\",\"size\":[143.29638938613476,127.88763623521962,126.3930637245948,126.38332200830502,125.1910467189961,124.84801290893475,124.78312692555924,124.49932658702615,120.46440417767711,118.60252925632314,117.90379327561222,107.45836164590412],\"sizemode\":\"area\",\"sizeref\":0.3582409734653369,\"symbol\":\"circle\"},\"mode\":\"markers\",\"name\":\"\",\"orientation\":\"v\",\"showlegend\":false,\"x\":[606.4347739256444,606.5279703844421,605.8091501357785,606.3212784698628,606.4099660249151,606.5500845847539,606.3240200197274,606.3724399956161,605.7816433874418,605.7626173398767,605.6714840658069,606.3262290091209],\"xaxis\":\"x\",\"y\":[3.1128484272823584,3.0237362851471645,3.1314774899840474,3.0255190637976597,3.0610744457895627,2.9597142336621296,3.071291662100123,3.0401928908048075,3.10187492135397,3.125385680130867,3.1253717166550983,2.9225100159524593],\"yaxis\":\"y\",\"type\":\"scatter\"}],                        {\"template\":{\"data\":{\"barpolar\":[{\"marker\":{\"line\":{\"color\":\"white\",\"width\":0.5},\"pattern\":{\"fillmode\":\"overlay\",\"size\":10,\"solidity\":0.2}},\"type\":\"barpolar\"}],\"bar\":[{\"error_x\":{\"color\":\"#2a3f5f\"},\"error_y\":{\"color\":\"#2a3f5f\"},\"marker\":{\"line\":{\"color\":\"white\",\"width\":0.5},\"pattern\":{\"fillmode\":\"overlay\",\"size\":10,\"solidity\":0.2}},\"type\":\"bar\"}],\"carpet\":[{\"aaxis\":{\"endlinecolor\":\"#2a3f5f\",\"gridcolor\":\"#C8D4E3\",\"linecolor\":\"#C8D4E3\",\"minorgridcolor\":\"#C8D4E3\",\"startlinecolor\":\"#2a3f5f\"},\"baxis\":{\"endlinecolor\":\"#2a3f5f\",\"gridcolor\":\"#C8D4E3\",\"linecolor\":\"#C8D4E3\",\"minorgridcolor\":\"#C8D4E3\",\"startlinecolor\":\"#2a3f5f\"},\"type\":\"carpet\"}],\"choropleth\":[{\"colorbar\":{\"outlinewidth\":0,\"ticks\":\"\"},\"type\":\"choropleth\"}],\"contourcarpet\":[{\"colorbar\":{\"outlinewidth\":0,\"ticks\":\"\"},\"type\":\"contourcarpet\"}],\"contour\":[{\"colorbar\":{\"outlinewidth\":0,\"ticks\":\"\"},\"colorscale\":[[0.0,\"#0d0887\"],[0.1111111111111111,\"#46039f\"],[0.2222222222222222,\"#7201a8\"],[0.3333333333333333,\"#9c179e\"],[0.4444444444444444,\"#bd3786\"],[0.5555555555555556,\"#d8576b\"],[0.6666666666666666,\"#ed7953\"],[0.7777777777777778,\"#fb9f3a\"],[0.8888888888888888,\"#fdca26\"],[1.0,\"#f0f921\"]],\"type\":\"contour\"}],\"heatmapgl\":[{\"colorbar\":{\"outlinewidth\":0,\"ticks\":\"\"},\"colorscale\":[[0.0,\"#0d0887\"],[0.1111111111111111,\"#46039f\"],[0.2222222222222222,\"#7201a8\"],[0.3333333333333333,\"#9c179e\"],[0.4444444444444444,\"#bd3786\"],[0.5555555555555556,\"#d8576b\"],[0.6666666666666666,\"#ed7953\"],[0.7777777777777778,\"#fb9f3a\"],[0.8888888888888888,\"#fdca26\"],[1.0,\"#f0f921\"]],\"type\":\"heatmapgl\"}],\"heatmap\":[{\"colorbar\":{\"outlinewidth\":0,\"ticks\":\"\"},\"colorscale\":[[0.0,\"#0d0887\"],[0.1111111111111111,\"#46039f\"],[0.2222222222222222,\"#7201a8\"],[0.3333333333333333,\"#9c179e\"],[0.4444444444444444,\"#bd3786\"],[0.5555555555555556,\"#d8576b\"],[0.6666666666666666,\"#ed7953\"],[0.7777777777777778,\"#fb9f3a\"],[0.8888888888888888,\"#fdca26\"],[1.0,\"#f0f921\"]],\"type\":\"heatmap\"}],\"histogram2dcontour\":[{\"colorbar\":{\"outlinewidth\":0,\"ticks\":\"\"},\"colorscale\":[[0.0,\"#0d0887\"],[0.1111111111111111,\"#46039f\"],[0.2222222222222222,\"#7201a8\"],[0.3333333333333333,\"#9c179e\"],[0.4444444444444444,\"#bd3786\"],[0.5555555555555556,\"#d8576b\"],[0.6666666666666666,\"#ed7953\"],[0.7777777777777778,\"#fb9f3a\"],[0.8888888888888888,\"#fdca26\"],[1.0,\"#f0f921\"]],\"type\":\"histogram2dcontour\"}],\"histogram2d\":[{\"colorbar\":{\"outlinewidth\":0,\"ticks\":\"\"},\"colorscale\":[[0.0,\"#0d0887\"],[0.1111111111111111,\"#46039f\"],[0.2222222222222222,\"#7201a8\"],[0.3333333333333333,\"#9c179e\"],[0.4444444444444444,\"#bd3786\"],[0.5555555555555556,\"#d8576b\"],[0.6666666666666666,\"#ed7953\"],[0.7777777777777778,\"#fb9f3a\"],[0.8888888888888888,\"#fdca26\"],[1.0,\"#f0f921\"]],\"type\":\"histogram2d\"}],\"histogram\":[{\"marker\":{\"pattern\":{\"fillmode\":\"overlay\",\"size\":10,\"solidity\":0.2}},\"type\":\"histogram\"}],\"mesh3d\":[{\"colorbar\":{\"outlinewidth\":0,\"ticks\":\"\"},\"type\":\"mesh3d\"}],\"parcoords\":[{\"line\":{\"colorbar\":{\"outlinewidth\":0,\"ticks\":\"\"}},\"type\":\"parcoords\"}],\"pie\":[{\"automargin\":true,\"type\":\"pie\"}],\"scatter3d\":[{\"line\":{\"colorbar\":{\"outlinewidth\":0,\"ticks\":\"\"}},\"marker\":{\"colorbar\":{\"outlinewidth\":0,\"ticks\":\"\"}},\"type\":\"scatter3d\"}],\"scattercarpet\":[{\"marker\":{\"colorbar\":{\"outlinewidth\":0,\"ticks\":\"\"}},\"type\":\"scattercarpet\"}],\"scattergeo\":[{\"marker\":{\"colorbar\":{\"outlinewidth\":0,\"ticks\":\"\"}},\"type\":\"scattergeo\"}],\"scattergl\":[{\"marker\":{\"colorbar\":{\"outlinewidth\":0,\"ticks\":\"\"}},\"type\":\"scattergl\"}],\"scattermapbox\":[{\"marker\":{\"colorbar\":{\"outlinewidth\":0,\"ticks\":\"\"}},\"type\":\"scattermapbox\"}],\"scatterpolargl\":[{\"marker\":{\"colorbar\":{\"outlinewidth\":0,\"ticks\":\"\"}},\"type\":\"scatterpolargl\"}],\"scatterpolar\":[{\"marker\":{\"colorbar\":{\"outlinewidth\":0,\"ticks\":\"\"}},\"type\":\"scatterpolar\"}],\"scatter\":[{\"fillpattern\":{\"fillmode\":\"overlay\",\"size\":10,\"solidity\":0.2},\"type\":\"scatter\"}],\"scatterternary\":[{\"marker\":{\"colorbar\":{\"outlinewidth\":0,\"ticks\":\"\"}},\"type\":\"scatterternary\"}],\"surface\":[{\"colorbar\":{\"outlinewidth\":0,\"ticks\":\"\"},\"colorscale\":[[0.0,\"#0d0887\"],[0.1111111111111111,\"#46039f\"],[0.2222222222222222,\"#7201a8\"],[0.3333333333333333,\"#9c179e\"],[0.4444444444444444,\"#bd3786\"],[0.5555555555555556,\"#d8576b\"],[0.6666666666666666,\"#ed7953\"],[0.7777777777777778,\"#fb9f3a\"],[0.8888888888888888,\"#fdca26\"],[1.0,\"#f0f921\"]],\"type\":\"surface\"}],\"table\":[{\"cells\":{\"fill\":{\"color\":\"#EBF0F8\"},\"line\":{\"color\":\"white\"}},\"header\":{\"fill\":{\"color\":\"#C8D4E3\"},\"line\":{\"color\":\"white\"}},\"type\":\"table\"}]},\"layout\":{\"annotationdefaults\":{\"arrowcolor\":\"#2a3f5f\",\"arrowhead\":0,\"arrowwidth\":1},\"autotypenumbers\":\"strict\",\"coloraxis\":{\"colorbar\":{\"outlinewidth\":0,\"ticks\":\"\"}},\"colorscale\":{\"diverging\":[[0,\"#8e0152\"],[0.1,\"#c51b7d\"],[0.2,\"#de77ae\"],[0.3,\"#f1b6da\"],[0.4,\"#fde0ef\"],[0.5,\"#f7f7f7\"],[0.6,\"#e6f5d0\"],[0.7,\"#b8e186\"],[0.8,\"#7fbc41\"],[0.9,\"#4d9221\"],[1,\"#276419\"]],\"sequential\":[[0.0,\"#0d0887\"],[0.1111111111111111,\"#46039f\"],[0.2222222222222222,\"#7201a8\"],[0.3333333333333333,\"#9c179e\"],[0.4444444444444444,\"#bd3786\"],[0.5555555555555556,\"#d8576b\"],[0.6666666666666666,\"#ed7953\"],[0.7777777777777778,\"#fb9f3a\"],[0.8888888888888888,\"#fdca26\"],[1.0,\"#f0f921\"]],\"sequentialminus\":[[0.0,\"#0d0887\"],[0.1111111111111111,\"#46039f\"],[0.2222222222222222,\"#7201a8\"],[0.3333333333333333,\"#9c179e\"],[0.4444444444444444,\"#bd3786\"],[0.5555555555555556,\"#d8576b\"],[0.6666666666666666,\"#ed7953\"],[0.7777777777777778,\"#fb9f3a\"],[0.8888888888888888,\"#fdca26\"],[1.0,\"#f0f921\"]]},\"colorway\":[\"#636efa\",\"#EF553B\",\"#00cc96\",\"#ab63fa\",\"#FFA15A\",\"#19d3f3\",\"#FF6692\",\"#B6E880\",\"#FF97FF\",\"#FECB52\"],\"font\":{\"color\":\"#2a3f5f\"},\"geo\":{\"bgcolor\":\"white\",\"lakecolor\":\"white\",\"landcolor\":\"white\",\"showlakes\":true,\"showland\":true,\"subunitcolor\":\"#C8D4E3\"},\"hoverlabel\":{\"align\":\"left\"},\"hovermode\":\"closest\",\"mapbox\":{\"style\":\"light\"},\"paper_bgcolor\":\"white\",\"plot_bgcolor\":\"white\",\"polar\":{\"angularaxis\":{\"gridcolor\":\"#EBF0F8\",\"linecolor\":\"#EBF0F8\",\"ticks\":\"\"},\"bgcolor\":\"white\",\"radialaxis\":{\"gridcolor\":\"#EBF0F8\",\"linecolor\":\"#EBF0F8\",\"ticks\":\"\"}},\"scene\":{\"xaxis\":{\"backgroundcolor\":\"white\",\"gridcolor\":\"#DFE8F3\",\"gridwidth\":2,\"linecolor\":\"#EBF0F8\",\"showbackground\":true,\"ticks\":\"\",\"zerolinecolor\":\"#EBF0F8\"},\"yaxis\":{\"backgroundcolor\":\"white\",\"gridcolor\":\"#DFE8F3\",\"gridwidth\":2,\"linecolor\":\"#EBF0F8\",\"showbackground\":true,\"ticks\":\"\",\"zerolinecolor\":\"#EBF0F8\"},\"zaxis\":{\"backgroundcolor\":\"white\",\"gridcolor\":\"#DFE8F3\",\"gridwidth\":2,\"linecolor\":\"#EBF0F8\",\"showbackground\":true,\"ticks\":\"\",\"zerolinecolor\":\"#EBF0F8\"}},\"shapedefaults\":{\"line\":{\"color\":\"#2a3f5f\"}},\"ternary\":{\"aaxis\":{\"gridcolor\":\"#DFE8F3\",\"linecolor\":\"#A2B1C6\",\"ticks\":\"\"},\"baxis\":{\"gridcolor\":\"#DFE8F3\",\"linecolor\":\"#A2B1C6\",\"ticks\":\"\"},\"bgcolor\":\"white\",\"caxis\":{\"gridcolor\":\"#DFE8F3\",\"linecolor\":\"#A2B1C6\",\"ticks\":\"\"}},\"title\":{\"x\":0.05},\"xaxis\":{\"automargin\":true,\"gridcolor\":\"#EBF0F8\",\"linecolor\":\"#EBF0F8\",\"ticks\":\"\",\"title\":{\"standoff\":15},\"zerolinecolor\":\"#EBF0F8\",\"zerolinewidth\":2},\"yaxis\":{\"automargin\":true,\"gridcolor\":\"#EBF0F8\",\"linecolor\":\"#EBF0F8\",\"ticks\":\"\",\"title\":{\"standoff\":15},\"zerolinecolor\":\"#EBF0F8\",\"zerolinewidth\":2}}},\"xaxis\":{\"anchor\":\"y\",\"domain\":[0.0,1.0],\"title\":{\"text\":\"maximum_nights\"}},\"yaxis\":{\"anchor\":\"x\",\"domain\":[0.0,1.0],\"title\":{\"text\":\"minimum_nights\"}},\"coloraxis\":{\"colorbar\":{\"title\":{\"text\":\"price\"}},\"colorscale\":[[0.0,\"#0d0887\"],[0.1111111111111111,\"#46039f\"],[0.2222222222222222,\"#7201a8\"],[0.3333333333333333,\"#9c179e\"],[0.4444444444444444,\"#bd3786\"],[0.5555555555555556,\"#d8576b\"],[0.6666666666666666,\"#ed7953\"],[0.7777777777777778,\"#fb9f3a\"],[0.8888888888888888,\"#fdca26\"],[1.0,\"#f0f921\"]]},\"legend\":{\"tracegroupgap\":0,\"itemsizing\":\"constant\"},\"title\":{\"text\":\"Scatter Plot of cross Max-Min Nights and Price\"}},                        {\"responsive\": true}                    ).then(function(){\n",
       "                            \n",
       "var gd = document.getElementById('756f74ad-520d-4d0c-bf34-0e546f143472');\n",
       "var x = new MutationObserver(function (mutations, observer) {{\n",
       "        var display = window.getComputedStyle(gd).display;\n",
       "        if (!display || display === 'none') {{\n",
       "            console.log([gd, 'removed!']);\n",
       "            Plotly.purge(gd);\n",
       "            observer.disconnect();\n",
       "        }}\n",
       "}});\n",
       "\n",
       "// Listen for the removal of the full notebook cells\n",
       "var notebookContainer = gd.closest('#notebook-container');\n",
       "if (notebookContainer) {{\n",
       "    x.observe(notebookContainer, {childList: true});\n",
       "}}\n",
       "\n",
       "// Listen for the clearing of the current output cell\n",
       "var outputEl = gd.closest('.output');\n",
       "if (outputEl) {{\n",
       "    x.observe(outputEl, {childList: true});\n",
       "}}\n",
       "\n",
       "                        })                };                });            </script>        </div>"
      ]
     },
     "metadata": {},
     "output_type": "display_data"
    }
   ],
   "source": [
    "fig = px.scatter(AVG_Price_Month, x=\"maximum_nights\", y=\"minimum_nights\", color=\"price\",\n",
    "                 size='price', hover_data=['maximum_nights', 'minimum_nights', 'price', 'Month_Name'], template = 'plotly_white', \n",
    "                 title='Scatter Plot of cross Max-Min Nights and Price')\n",
    "fig.show()"
   ]
  },
  {
   "cell_type": "code",
   "execution_count": 38,
   "id": "9af1dbc6",
   "metadata": {
    "execution": {
     "iopub.execute_input": "2022-07-16T17:54:58.784417Z",
     "iopub.status.busy": "2022-07-16T17:54:58.784026Z",
     "iopub.status.idle": "2022-07-16T17:54:59.601554Z",
     "shell.execute_reply": "2022-07-16T17:54:59.600535Z"
    },
    "papermill": {
     "duration": 0.838658,
     "end_time": "2022-07-16T17:54:59.603830",
     "exception": false,
     "start_time": "2022-07-16T17:54:58.765172",
     "status": "completed"
    },
    "tags": []
   },
   "outputs": [],
   "source": [
    "data = air_data_cal\n",
    "AVG_Price_Weekday = data[['Weekday_Name','maximum_nights', 'minimum_nights', 'price']].groupby(['Weekday_Name']).mean().reset_index().sort_values('price', ascending = False)"
   ]
  },
  {
   "cell_type": "code",
   "execution_count": 39,
   "id": "3df27479",
   "metadata": {
    "execution": {
     "iopub.execute_input": "2022-07-16T17:54:59.641310Z",
     "iopub.status.busy": "2022-07-16T17:54:59.640951Z",
     "iopub.status.idle": "2022-07-16T17:54:59.654576Z",
     "shell.execute_reply": "2022-07-16T17:54:59.653007Z"
    },
    "papermill": {
     "duration": 0.03489,
     "end_time": "2022-07-16T17:54:59.656718",
     "exception": false,
     "start_time": "2022-07-16T17:54:59.621828",
     "status": "completed"
    },
    "tags": []
   },
   "outputs": [
    {
     "data": {
      "text/html": [
       "<div>\n",
       "<style scoped>\n",
       "    .dataframe tbody tr th:only-of-type {\n",
       "        vertical-align: middle;\n",
       "    }\n",
       "\n",
       "    .dataframe tbody tr th {\n",
       "        vertical-align: top;\n",
       "    }\n",
       "\n",
       "    .dataframe thead th {\n",
       "        text-align: right;\n",
       "    }\n",
       "</style>\n",
       "<table border=\"1\" class=\"dataframe\">\n",
       "  <thead>\n",
       "    <tr style=\"text-align: right;\">\n",
       "      <th></th>\n",
       "      <th>Weekday_Name</th>\n",
       "      <th>maximum_nights</th>\n",
       "      <th>minimum_nights</th>\n",
       "      <th>price</th>\n",
       "    </tr>\n",
       "  </thead>\n",
       "  <tbody>\n",
       "    <tr>\n",
       "      <th>2</th>\n",
       "      <td>Saturday</td>\n",
       "      <td>606.197568</td>\n",
       "      <td>3.083420</td>\n",
       "      <td>129.105185</td>\n",
       "    </tr>\n",
       "    <tr>\n",
       "      <th>0</th>\n",
       "      <td>Friday</td>\n",
       "      <td>606.201519</td>\n",
       "      <td>3.080650</td>\n",
       "      <td>128.280164</td>\n",
       "    </tr>\n",
       "    <tr>\n",
       "      <th>3</th>\n",
       "      <td>Sunday</td>\n",
       "      <td>606.193161</td>\n",
       "      <td>3.051284</td>\n",
       "      <td>122.900408</td>\n",
       "    </tr>\n",
       "    <tr>\n",
       "      <th>4</th>\n",
       "      <td>Thursday</td>\n",
       "      <td>606.188910</td>\n",
       "      <td>3.053986</td>\n",
       "      <td>122.203801</td>\n",
       "    </tr>\n",
       "    <tr>\n",
       "      <th>5</th>\n",
       "      <td>Tuesday</td>\n",
       "      <td>606.267748</td>\n",
       "      <td>3.044371</td>\n",
       "      <td>121.964911</td>\n",
       "    </tr>\n",
       "    <tr>\n",
       "      <th>1</th>\n",
       "      <td>Monday</td>\n",
       "      <td>606.182853</td>\n",
       "      <td>3.049268</td>\n",
       "      <td>121.942743</td>\n",
       "    </tr>\n",
       "    <tr>\n",
       "      <th>6</th>\n",
       "      <td>Wednesday</td>\n",
       "      <td>606.095941</td>\n",
       "      <td>3.048372</td>\n",
       "      <td>121.520175</td>\n",
       "    </tr>\n",
       "  </tbody>\n",
       "</table>\n",
       "</div>"
      ],
      "text/plain": [
       "  Weekday_Name  maximum_nights  minimum_nights       price\n",
       "2     Saturday      606.197568        3.083420  129.105185\n",
       "0       Friday      606.201519        3.080650  128.280164\n",
       "3       Sunday      606.193161        3.051284  122.900408\n",
       "4     Thursday      606.188910        3.053986  122.203801\n",
       "5      Tuesday      606.267748        3.044371  121.964911\n",
       "1       Monday      606.182853        3.049268  121.942743\n",
       "6    Wednesday      606.095941        3.048372  121.520175"
      ]
     },
     "execution_count": 39,
     "metadata": {},
     "output_type": "execute_result"
    }
   ],
   "source": [
    "AVG_Price_Weekday"
   ]
  },
  {
   "cell_type": "markdown",
   "id": "d0897d6b",
   "metadata": {
    "papermill": {
     "duration": 0.017317,
     "end_time": "2022-07-16T17:54:59.692349",
     "exception": false,
     "start_time": "2022-07-16T17:54:59.675032",
     "status": "completed"
    },
    "tags": []
   },
   "source": [
    "## Trend of Price across different Weekdays"
   ]
  },
  {
   "cell_type": "code",
   "execution_count": 40,
   "id": "c6a6fa12",
   "metadata": {
    "execution": {
     "iopub.execute_input": "2022-07-16T17:54:59.729191Z",
     "iopub.status.busy": "2022-07-16T17:54:59.728882Z",
     "iopub.status.idle": "2022-07-16T17:54:59.942178Z",
     "shell.execute_reply": "2022-07-16T17:54:59.940880Z"
    },
    "papermill": {
     "duration": 0.234272,
     "end_time": "2022-07-16T17:54:59.944208",
     "exception": false,
     "start_time": "2022-07-16T17:54:59.709936",
     "status": "completed"
    },
    "tags": []
   },
   "outputs": [
    {
     "data": {
      "image/png": "[encoded data removed]",
      "text/plain": [
       "<Figure size 1080x720 with 1 Axes>"
      ]
     },
     "metadata": {
      "needs_background": "light"
     },
     "output_type": "display_data"
    }
   ],
   "source": [
    "plt.figure(figsize=(15,10))\n",
    "ax_1 = sns.barplot(x='Weekday_Name', y='price', data=AVG_Price_Weekday, palette='magma')\n",
    "\n",
    "plt.xticks(fontsize=13, color='midnightblue', rotation=45)\n",
    "plt.yticks(fontsize=13, color='midnightblue')\n",
    "plt.xlabel('Weekday', size = 18, color='midnightblue')\n",
    "plt.ylabel('Price', size = 17 , color='midnightblue')\n",
    "plt.title('Trend of Price across different Weekdays', size = 22 , color='midnightblue')\n",
    "plt.show()"
   ]
  },
  {
   "cell_type": "code",
   "execution_count": 41,
   "id": "59fea205",
   "metadata": {
    "execution": {
     "iopub.execute_input": "2022-07-16T17:54:59.983136Z",
     "iopub.status.busy": "2022-07-16T17:54:59.982757Z",
     "iopub.status.idle": "2022-07-16T17:55:00.052244Z",
     "shell.execute_reply": "2022-07-16T17:55:00.051136Z"
    },
    "papermill": {
     "duration": 0.091803,
     "end_time": "2022-07-16T17:55:00.054336",
     "exception": false,
     "start_time": "2022-07-16T17:54:59.962533",
     "status": "completed"
    },
    "tags": []
   },
   "outputs": [
    {
     "data": {
      "text/html": [
       "<div>                            <div id=\"c731d0e6-85d4-466b-a892-c19fac369ea3\" class=\"plotly-graph-div\" style=\"height:525px; width:100%;\"></div>            <script type=\"text/javascript\">                require([\"plotly\"], function(Plotly) {                    window.PLOTLYENV=window.PLOTLYENV || {};                                    if (document.getElementById(\"c731d0e6-85d4-466b-a892-c19fac369ea3\")) {                    Plotly.newPlot(                        \"c731d0e6-85d4-466b-a892-c19fac369ea3\",                        [{\"customdata\":[[129.10518483026976,\"Saturday\"],[128.28016377733252,\"Friday\"],[122.90040799140459,\"Sunday\"],[122.20380114411824,\"Thursday\"],[121.96491067272923,\"Tuesday\"],[121.94274327031971,\"Monday\"],[121.52017471032018,\"Wednesday\"]],\"hovertemplate\":\"maximum_nights=%{x}<br>minimum_nights=%{y}<br>price=%{marker.color}<br>Weekday_Name=%{customdata[1]}<extra></extra>\",\"legendgroup\":\"\",\"marker\":{\"color\":[129.10518483026976,128.28016377733252,122.90040799140459,122.20380114411824,121.96491067272923,121.94274327031971,121.52017471032018],\"coloraxis\":\"coloraxis\",\"size\":[129.10518483026976,128.28016377733252,122.90040799140459,122.20380114411824,121.96491067272923,121.94274327031971,121.52017471032018],\"sizemode\":\"area\",\"sizeref\":0.3227629620756744,\"symbol\":\"circle\"},\"mode\":\"markers\",\"name\":\"\",\"orientation\":\"v\",\"showlegend\":false,\"x\":[606.1975680227662,606.2015187153353,606.1931614252112,606.188910183814,606.2677483799363,606.1828527455934,606.095940511858],\"xaxis\":\"x\",\"y\":[3.0834204489357377,3.080650172779278,3.051283503208758,3.053985538810001,3.0443707708281122,3.049268228939803,3.048371656499296],\"yaxis\":\"y\",\"type\":\"scatter\"}],                        {\"template\":{\"data\":{\"barpolar\":[{\"marker\":{\"line\":{\"color\":\"white\",\"width\":0.5},\"pattern\":{\"fillmode\":\"overlay\",\"size\":10,\"solidity\":0.2}},\"type\":\"barpolar\"}],\"bar\":[{\"error_x\":{\"color\":\"#2a3f5f\"},\"error_y\":{\"color\":\"#2a3f5f\"},\"marker\":{\"line\":{\"color\":\"white\",\"width\":0.5},\"pattern\":{\"fillmode\":\"overlay\",\"size\":10,\"solidity\":0.2}},\"type\":\"bar\"}],\"carpet\":[{\"aaxis\":{\"endlinecolor\":\"#2a3f5f\",\"gridcolor\":\"#C8D4E3\",\"linecolor\":\"#C8D4E3\",\"minorgridcolor\":\"#C8D4E3\",\"startlinecolor\":\"#2a3f5f\"},\"baxis\":{\"endlinecolor\":\"#2a3f5f\",\"gridcolor\":\"#C8D4E3\",\"linecolor\":\"#C8D4E3\",\"minorgridcolor\":\"#C8D4E3\",\"startlinecolor\":\"#2a3f5f\"},\"type\":\"carpet\"}],\"choropleth\":[{\"colorbar\":{\"outlinewidth\":0,\"ticks\":\"\"},\"type\":\"choropleth\"}],\"contourcarpet\":[{\"colorbar\":{\"outlinewidth\":0,\"ticks\":\"\"},\"type\":\"contourcarpet\"}],\"contour\":[{\"colorbar\":{\"outlinewidth\":0,\"ticks\":\"\"},\"colorscale\":[[0.0,\"#0d0887\"],[0.1111111111111111,\"#46039f\"],[0.2222222222222222,\"#7201a8\"],[0.3333333333333333,\"#9c179e\"],[0.4444444444444444,\"#bd3786\"],[0.5555555555555556,\"#d8576b\"],[0.6666666666666666,\"#ed7953\"],[0.7777777777777778,\"#fb9f3a\"],[0.8888888888888888,\"#fdca26\"],[1.0,\"#f0f921\"]],\"type\":\"contour\"}],\"heatmapgl\":[{\"colorbar\":{\"outlinewidth\":0,\"ticks\":\"\"},\"colorscale\":[[0.0,\"#0d0887\"],[0.1111111111111111,\"#46039f\"],[0.2222222222222222,\"#7201a8\"],[0.3333333333333333,\"#9c179e\"],[0.4444444444444444,\"#bd3786\"],[0.5555555555555556,\"#d8576b\"],[0.6666666666666666,\"#ed7953\"],[0.7777777777777778,\"#fb9f3a\"],[0.8888888888888888,\"#fdca26\"],[1.0,\"#f0f921\"]],\"type\":\"heatmapgl\"}],\"heatmap\":[{\"colorbar\":{\"outlinewidth\":0,\"ticks\":\"\"},\"colorscale\":[[0.0,\"#0d0887\"],[0.1111111111111111,\"#46039f\"],[0.2222222222222222,\"#7201a8\"],[0.3333333333333333,\"#9c179e\"],[0.4444444444444444,\"#bd3786\"],[0.5555555555555556,\"#d8576b\"],[0.6666666666666666,\"#ed7953\"],[0.7777777777777778,\"#fb9f3a\"],[0.8888888888888888,\"#fdca26\"],[1.0,\"#f0f921\"]],\"type\":\"heatmap\"}],\"histogram2dcontour\":[{\"colorbar\":{\"outlinewidth\":0,\"ticks\":\"\"},\"colorscale\":[[0.0,\"#0d0887\"],[0.1111111111111111,\"#46039f\"],[0.2222222222222222,\"#7201a8\"],[0.3333333333333333,\"#9c179e\"],[0.4444444444444444,\"#bd3786\"],[0.5555555555555556,\"#d8576b\"],[0.6666666666666666,\"#ed7953\"],[0.7777777777777778,\"#fb9f3a\"],[0.8888888888888888,\"#fdca26\"],[1.0,\"#f0f921\"]],\"type\":\"histogram2dcontour\"}],\"histogram2d\":[{\"colorbar\":{\"outlinewidth\":0,\"ticks\":\"\"},\"colorscale\":[[0.0,\"#0d0887\"],[0.1111111111111111,\"#46039f\"],[0.2222222222222222,\"#7201a8\"],[0.3333333333333333,\"#9c179e\"],[0.4444444444444444,\"#bd3786\"],[0.5555555555555556,\"#d8576b\"],[0.6666666666666666,\"#ed7953\"],[0.7777777777777778,\"#fb9f3a\"],[0.8888888888888888,\"#fdca26\"],[1.0,\"#f0f921\"]],\"type\":\"histogram2d\"}],\"histogram\":[{\"marker\":{\"pattern\":{\"fillmode\":\"overlay\",\"size\":10,\"solidity\":0.2}},\"type\":\"histogram\"}],\"mesh3d\":[{\"colorbar\":{\"outlinewidth\":0,\"ticks\":\"\"},\"type\":\"mesh3d\"}],\"parcoords\":[{\"line\":{\"colorbar\":{\"outlinewidth\":0,\"ticks\":\"\"}},\"type\":\"parcoords\"}],\"pie\":[{\"automargin\":true,\"type\":\"pie\"}],\"scatter3d\":[{\"line\":{\"colorbar\":{\"outlinewidth\":0,\"ticks\":\"\"}},\"marker\":{\"colorbar\":{\"outlinewidth\":0,\"ticks\":\"\"}},\"type\":\"scatter3d\"}],\"scattercarpet\":[{\"marker\":{\"colorbar\":{\"outlinewidth\":0,\"ticks\":\"\"}},\"type\":\"scattercarpet\"}],\"scattergeo\":[{\"marker\":{\"colorbar\":{\"outlinewidth\":0,\"ticks\":\"\"}},\"type\":\"scattergeo\"}],\"scattergl\":[{\"marker\":{\"colorbar\":{\"outlinewidth\":0,\"ticks\":\"\"}},\"type\":\"scattergl\"}],\"scattermapbox\":[{\"marker\":{\"colorbar\":{\"outlinewidth\":0,\"ticks\":\"\"}},\"type\":\"scattermapbox\"}],\"scatterpolargl\":[{\"marker\":{\"colorbar\":{\"outlinewidth\":0,\"ticks\":\"\"}},\"type\":\"scatterpolargl\"}],\"scatterpolar\":[{\"marker\":{\"colorbar\":{\"outlinewidth\":0,\"ticks\":\"\"}},\"type\":\"scatterpolar\"}],\"scatter\":[{\"fillpattern\":{\"fillmode\":\"overlay\",\"size\":10,\"solidity\":0.2},\"type\":\"scatter\"}],\"scatterternary\":[{\"marker\":{\"colorbar\":{\"outlinewidth\":0,\"ticks\":\"\"}},\"type\":\"scatterternary\"}],\"surface\":[{\"colorbar\":{\"outlinewidth\":0,\"ticks\":\"\"},\"colorscale\":[[0.0,\"#0d0887\"],[0.1111111111111111,\"#46039f\"],[0.2222222222222222,\"#7201a8\"],[0.3333333333333333,\"#9c179e\"],[0.4444444444444444,\"#bd3786\"],[0.5555555555555556,\"#d8576b\"],[0.6666666666666666,\"#ed7953\"],[0.7777777777777778,\"#fb9f3a\"],[0.8888888888888888,\"#fdca26\"],[1.0,\"#f0f921\"]],\"type\":\"surface\"}],\"table\":[{\"cells\":{\"fill\":{\"color\":\"#EBF0F8\"},\"line\":{\"color\":\"white\"}},\"header\":{\"fill\":{\"color\":\"#C8D4E3\"},\"line\":{\"color\":\"white\"}},\"type\":\"table\"}]},\"layout\":{\"annotationdefaults\":{\"arrowcolor\":\"#2a3f5f\",\"arrowhead\":0,\"arrowwidth\":1},\"autotypenumbers\":\"strict\",\"coloraxis\":{\"colorbar\":{\"outlinewidth\":0,\"ticks\":\"\"}},\"colorscale\":{\"diverging\":[[0,\"#8e0152\"],[0.1,\"#c51b7d\"],[0.2,\"#de77ae\"],[0.3,\"#f1b6da\"],[0.4,\"#fde0ef\"],[0.5,\"#f7f7f7\"],[0.6,\"#e6f5d0\"],[0.7,\"#b8e186\"],[0.8,\"#7fbc41\"],[0.9,\"#4d9221\"],[1,\"#276419\"]],\"sequential\":[[0.0,\"#0d0887\"],[0.1111111111111111,\"#46039f\"],[0.2222222222222222,\"#7201a8\"],[0.3333333333333333,\"#9c179e\"],[0.4444444444444444,\"#bd3786\"],[0.5555555555555556,\"#d8576b\"],[0.6666666666666666,\"#ed7953\"],[0.7777777777777778,\"#fb9f3a\"],[0.8888888888888888,\"#fdca26\"],[1.0,\"#f0f921\"]],\"sequentialminus\":[[0.0,\"#0d0887\"],[0.1111111111111111,\"#46039f\"],[0.2222222222222222,\"#7201a8\"],[0.3333333333333333,\"#9c179e\"],[0.4444444444444444,\"#bd3786\"],[0.5555555555555556,\"#d8576b\"],[0.6666666666666666,\"#ed7953\"],[0.7777777777777778,\"#fb9f3a\"],[0.8888888888888888,\"#fdca26\"],[1.0,\"#f0f921\"]]},\"colorway\":[\"#636efa\",\"#EF553B\",\"#00cc96\",\"#ab63fa\",\"#FFA15A\",\"#19d3f3\",\"#FF6692\",\"#B6E880\",\"#FF97FF\",\"#FECB52\"],\"font\":{\"color\":\"#2a3f5f\"},\"geo\":{\"bgcolor\":\"white\",\"lakecolor\":\"white\",\"landcolor\":\"white\",\"showlakes\":true,\"showland\":true,\"subunitcolor\":\"#C8D4E3\"},\"hoverlabel\":{\"align\":\"left\"},\"hovermode\":\"closest\",\"mapbox\":{\"style\":\"light\"},\"paper_bgcolor\":\"white\",\"plot_bgcolor\":\"white\",\"polar\":{\"angularaxis\":{\"gridcolor\":\"#EBF0F8\",\"linecolor\":\"#EBF0F8\",\"ticks\":\"\"},\"bgcolor\":\"white\",\"radialaxis\":{\"gridcolor\":\"#EBF0F8\",\"linecolor\":\"#EBF0F8\",\"ticks\":\"\"}},\"scene\":{\"xaxis\":{\"backgroundcolor\":\"white\",\"gridcolor\":\"#DFE8F3\",\"gridwidth\":2,\"linecolor\":\"#EBF0F8\",\"showbackground\":true,\"ticks\":\"\",\"zerolinecolor\":\"#EBF0F8\"},\"yaxis\":{\"backgroundcolor\":\"white\",\"gridcolor\":\"#DFE8F3\",\"gridwidth\":2,\"linecolor\":\"#EBF0F8\",\"showbackground\":true,\"ticks\":\"\",\"zerolinecolor\":\"#EBF0F8\"},\"zaxis\":{\"backgroundcolor\":\"white\",\"gridcolor\":\"#DFE8F3\",\"gridwidth\":2,\"linecolor\":\"#EBF0F8\",\"showbackground\":true,\"ticks\":\"\",\"zerolinecolor\":\"#EBF0F8\"}},\"shapedefaults\":{\"line\":{\"color\":\"#2a3f5f\"}},\"ternary\":{\"aaxis\":{\"gridcolor\":\"#DFE8F3\",\"linecolor\":\"#A2B1C6\",\"ticks\":\"\"},\"baxis\":{\"gridcolor\":\"#DFE8F3\",\"linecolor\":\"#A2B1C6\",\"ticks\":\"\"},\"bgcolor\":\"white\",\"caxis\":{\"gridcolor\":\"#DFE8F3\",\"linecolor\":\"#A2B1C6\",\"ticks\":\"\"}},\"title\":{\"x\":0.05},\"xaxis\":{\"automargin\":true,\"gridcolor\":\"#EBF0F8\",\"linecolor\":\"#EBF0F8\",\"ticks\":\"\",\"title\":{\"standoff\":15},\"zerolinecolor\":\"#EBF0F8\",\"zerolinewidth\":2},\"yaxis\":{\"automargin\":true,\"gridcolor\":\"#EBF0F8\",\"linecolor\":\"#EBF0F8\",\"ticks\":\"\",\"title\":{\"standoff\":15},\"zerolinecolor\":\"#EBF0F8\",\"zerolinewidth\":2}}},\"xaxis\":{\"anchor\":\"y\",\"domain\":[0.0,1.0],\"title\":{\"text\":\"maximum_nights\"}},\"yaxis\":{\"anchor\":\"x\",\"domain\":[0.0,1.0],\"title\":{\"text\":\"minimum_nights\"}},\"coloraxis\":{\"colorbar\":{\"title\":{\"text\":\"price\"}},\"colorscale\":[[0.0,\"#0d0887\"],[0.1111111111111111,\"#46039f\"],[0.2222222222222222,\"#7201a8\"],[0.3333333333333333,\"#9c179e\"],[0.4444444444444444,\"#bd3786\"],[0.5555555555555556,\"#d8576b\"],[0.6666666666666666,\"#ed7953\"],[0.7777777777777778,\"#fb9f3a\"],[0.8888888888888888,\"#fdca26\"],[1.0,\"#f0f921\"]]},\"legend\":{\"tracegroupgap\":0,\"itemsizing\":\"constant\"},\"title\":{\"text\":\"Scatter Plot of cross Max-Min Nights and Price in weekdays\"}},                        {\"responsive\": true}                    ).then(function(){\n",
       "                            \n",
       "var gd = document.getElementById('c731d0e6-85d4-466b-a892-c19fac369ea3');\n",
       "var x = new MutationObserver(function (mutations, observer) {{\n",
       "        var display = window.getComputedStyle(gd).display;\n",
       "        if (!display || display === 'none') {{\n",
       "            console.log([gd, 'removed!']);\n",
       "            Plotly.purge(gd);\n",
       "            observer.disconnect();\n",
       "        }}\n",
       "}});\n",
       "\n",
       "// Listen for the removal of the full notebook cells\n",
       "var notebookContainer = gd.closest('#notebook-container');\n",
       "if (notebookContainer) {{\n",
       "    x.observe(notebookContainer, {childList: true});\n",
       "}}\n",
       "\n",
       "// Listen for the clearing of the current output cell\n",
       "var outputEl = gd.closest('.output');\n",
       "if (outputEl) {{\n",
       "    x.observe(outputEl, {childList: true});\n",
       "}}\n",
       "\n",
       "                        })                };                });            </script>        </div>"
      ]
     },
     "metadata": {},
     "output_type": "display_data"
    }
   ],
   "source": [
    "fig = px.scatter(AVG_Price_Weekday, x=\"maximum_nights\", y=\"minimum_nights\", color=\"price\",\n",
    "                 size='price', hover_data=['maximum_nights', 'minimum_nights', 'price', 'Weekday_Name'], template = 'plotly_white', \n",
    "                 title='Scatter Plot of cross Max-Min Nights and Price in weekdays')\n",
    "fig.show()"
   ]
  },
  {
   "cell_type": "markdown",
   "id": "0e39aa47",
   "metadata": {
    "papermill": {
     "duration": 0.019292,
     "end_time": "2022-07-16T17:55:00.093920",
     "exception": false,
     "start_time": "2022-07-16T17:55:00.074628",
     "status": "completed"
    },
    "tags": []
   },
   "source": [
    "<a id=\"5\"></a> \n",
    "# <b>5 <span style='color:#FE5F64'>|</span> EDA Airbnb Dataset Two</b>"
   ]
  },
  {
   "cell_type": "code",
   "execution_count": 42,
   "id": "d1b767bb",
   "metadata": {
    "execution": {
     "iopub.execute_input": "2022-07-16T17:55:00.137274Z",
     "iopub.status.busy": "2022-07-16T17:55:00.135871Z",
     "iopub.status.idle": "2022-07-16T17:55:00.164352Z",
     "shell.execute_reply": "2022-07-16T17:55:00.163311Z"
    },
    "papermill": {
     "duration": 0.052219,
     "end_time": "2022-07-16T17:55:00.166272",
     "exception": false,
     "start_time": "2022-07-16T17:55:00.114053",
     "status": "completed"
    },
    "tags": []
   },
   "outputs": [
    {
     "data": {
      "text/html": [
       "<div>\n",
       "<style scoped>\n",
       "    .dataframe tbody tr th:only-of-type {\n",
       "        vertical-align: middle;\n",
       "    }\n",
       "\n",
       "    .dataframe tbody tr th {\n",
       "        vertical-align: top;\n",
       "    }\n",
       "\n",
       "    .dataframe thead th {\n",
       "        text-align: right;\n",
       "    }\n",
       "</style>\n",
       "<table border=\"1\" class=\"dataframe\">\n",
       "  <thead>\n",
       "    <tr style=\"text-align: right;\">\n",
       "      <th></th>\n",
       "      <th>id</th>\n",
       "      <th>name</th>\n",
       "      <th>host_id</th>\n",
       "      <th>host_name</th>\n",
       "      <th>host_identity_verified</th>\n",
       "      <th>street</th>\n",
       "      <th>neighbourhood</th>\n",
       "      <th>city</th>\n",
       "      <th>state</th>\n",
       "      <th>market</th>\n",
       "      <th>...</th>\n",
       "      <th>longitude</th>\n",
       "      <th>room_type</th>\n",
       "      <th>accommodates</th>\n",
       "      <th>price</th>\n",
       "      <th>minimum_nights</th>\n",
       "      <th>number_of_reviews</th>\n",
       "      <th>last_review</th>\n",
       "      <th>review_scores_rating</th>\n",
       "      <th>calculated_host_listings_count</th>\n",
       "      <th>reviews_per_month</th>\n",
       "    </tr>\n",
       "  </thead>\n",
       "  <tbody>\n",
       "    <tr>\n",
       "      <th>0</th>\n",
       "      <td>15420</td>\n",
       "      <td>Georgian Boutique Apt City Centre</td>\n",
       "      <td>60423</td>\n",
       "      <td>Charlotte</td>\n",
       "      <td>t</td>\n",
       "      <td>Edinburgh, City of Edinburgh, United Kingdom</td>\n",
       "      <td>New Town</td>\n",
       "      <td>Edinburgh</td>\n",
       "      <td>City of Edinburgh</td>\n",
       "      <td>Edinburgh</td>\n",
       "      <td>...</td>\n",
       "      <td>-3.18768</td>\n",
       "      <td>Entire home/apt</td>\n",
       "      <td>2</td>\n",
       "      <td>80</td>\n",
       "      <td>3</td>\n",
       "      <td>283</td>\n",
       "      <td>2019-06-23</td>\n",
       "      <td>99.0</td>\n",
       "      <td>1</td>\n",
       "      <td>2.76</td>\n",
       "    </tr>\n",
       "    <tr>\n",
       "      <th>1</th>\n",
       "      <td>24288</td>\n",
       "      <td>Cool central Loft, sleeps 4, 2 double bed+en-s...</td>\n",
       "      <td>46498</td>\n",
       "      <td>Gordon</td>\n",
       "      <td>f</td>\n",
       "      <td>Edinburgh, EH8 9JW, United Kingdom</td>\n",
       "      <td>Southside</td>\n",
       "      <td>Edinburgh</td>\n",
       "      <td>EH8 9JW</td>\n",
       "      <td>Edinburgh</td>\n",
       "      <td>...</td>\n",
       "      <td>-3.18467</td>\n",
       "      <td>Entire home/apt</td>\n",
       "      <td>4</td>\n",
       "      <td>115</td>\n",
       "      <td>2</td>\n",
       "      <td>199</td>\n",
       "      <td>2019-06-19</td>\n",
       "      <td>92.0</td>\n",
       "      <td>1</td>\n",
       "      <td>1.86</td>\n",
       "    </tr>\n",
       "    <tr>\n",
       "      <th>2</th>\n",
       "      <td>38628</td>\n",
       "      <td>Edinburgh Holiday Let</td>\n",
       "      <td>165635</td>\n",
       "      <td>Trish</td>\n",
       "      <td>t</td>\n",
       "      <td>Edinburgh, City of Edinburgh, United Kingdom</td>\n",
       "      <td>NaN</td>\n",
       "      <td>Edinburgh</td>\n",
       "      <td>City of Edinburgh</td>\n",
       "      <td>Edinburgh</td>\n",
       "      <td>...</td>\n",
       "      <td>-3.09525</td>\n",
       "      <td>Entire home/apt</td>\n",
       "      <td>2</td>\n",
       "      <td>46</td>\n",
       "      <td>4</td>\n",
       "      <td>52</td>\n",
       "      <td>2019-05-29</td>\n",
       "      <td>94.0</td>\n",
       "      <td>2</td>\n",
       "      <td>0.85</td>\n",
       "    </tr>\n",
       "  </tbody>\n",
       "</table>\n",
       "<p>3 rows × 21 columns</p>\n",
       "</div>"
      ],
      "text/plain": [
       "      id                                               name  host_id  \\\n",
       "0  15420                  Georgian Boutique Apt City Centre    60423   \n",
       "1  24288  Cool central Loft, sleeps 4, 2 double bed+en-s...    46498   \n",
       "2  38628                              Edinburgh Holiday Let   165635   \n",
       "\n",
       "   host_name host_identity_verified  \\\n",
       "0  Charlotte                      t   \n",
       "1     Gordon                      f   \n",
       "2      Trish                      t   \n",
       "\n",
       "                                         street neighbourhood       city  \\\n",
       "0  Edinburgh, City of Edinburgh, United Kingdom      New Town  Edinburgh   \n",
       "1            Edinburgh, EH8 9JW, United Kingdom     Southside  Edinburgh   \n",
       "2  Edinburgh, City of Edinburgh, United Kingdom           NaN  Edinburgh   \n",
       "\n",
       "               state     market  ...  longitude        room_type accommodates  \\\n",
       "0  City of Edinburgh  Edinburgh  ...   -3.18768  Entire home/apt            2   \n",
       "1            EH8 9JW  Edinburgh  ...   -3.18467  Entire home/apt            4   \n",
       "2  City of Edinburgh  Edinburgh  ...   -3.09525  Entire home/apt            2   \n",
       "\n",
       "   price minimum_nights  number_of_reviews  last_review review_scores_rating  \\\n",
       "0     80              3                283   2019-06-23                 99.0   \n",
       "1    115              2                199   2019-06-19                 92.0   \n",
       "2     46              4                 52   2019-05-29                 94.0   \n",
       "\n",
       "   calculated_host_listings_count  reviews_per_month  \n",
       "0                               1               2.76  \n",
       "1                               1               1.86  \n",
       "2                               2               0.85  \n",
       "\n",
       "[3 rows x 21 columns]"
      ]
     },
     "execution_count": 42,
     "metadata": {},
     "output_type": "execute_result"
    }
   ],
   "source": [
    "air_data_listings.head(3)"
   ]
  },
  {
   "cell_type": "code",
   "execution_count": 43,
   "id": "e7a455ab",
   "metadata": {
    "execution": {
     "iopub.execute_input": "2022-07-16T17:55:00.208351Z",
     "iopub.status.busy": "2022-07-16T17:55:00.207512Z",
     "iopub.status.idle": "2022-07-16T17:55:00.213220Z",
     "shell.execute_reply": "2022-07-16T17:55:00.212612Z"
    },
    "papermill": {
     "duration": 0.030103,
     "end_time": "2022-07-16T17:55:00.216555",
     "exception": false,
     "start_time": "2022-07-16T17:55:00.186452",
     "status": "completed"
    },
    "tags": []
   },
   "outputs": [
    {
     "name": "stdout",
     "output_type": "stream",
     "text": [
      "Entire home/apt\n",
      "Private room\n",
      "Shared room\n"
     ]
    }
   ],
   "source": [
    "#List all unique room types\n",
    "for elem in air_data_listings['room_type'].unique():\n",
    "    print(elem)"
   ]
  },
  {
   "cell_type": "markdown",
   "id": "745c1fd3",
   "metadata": {
    "papermill": {
     "duration": 0.029051,
     "end_time": "2022-07-16T17:55:00.274868",
     "exception": false,
     "start_time": "2022-07-16T17:55:00.245817",
     "status": "completed"
    },
    "tags": []
   },
   "source": [
    "## Room Types Bar Chart"
   ]
  },
  {
   "cell_type": "code",
   "execution_count": 44,
   "id": "f0b1b821",
   "metadata": {
    "execution": {
     "iopub.execute_input": "2022-07-16T17:55:00.335042Z",
     "iopub.status.busy": "2022-07-16T17:55:00.334542Z",
     "iopub.status.idle": "2022-07-16T17:55:00.674086Z",
     "shell.execute_reply": "2022-07-16T17:55:00.673221Z"
    },
    "papermill": {
     "duration": 0.372418,
     "end_time": "2022-07-16T17:55:00.676532",
     "exception": false,
     "start_time": "2022-07-16T17:55:00.304114",
     "status": "completed"
    },
    "tags": []
   },
   "outputs": [
    {
     "data": {
      "image/png": "[encoded data removed]",
      "text/plain": [
       "<Figure size 576x360 with 1 Axes>"
      ]
     },
     "metadata": {
      "needs_background": "light"
     },
     "output_type": "display_data"
    }
   ],
   "source": [
    "plt.figure(figsize=(8,5))\n",
    "ax = sns.barplot(x='room_type', y='number_of_reviews', data=air_data_listings, palette='magma')\n",
    "plt.xticks(fontsize=13, color='midnightblue')\n",
    "plt.yticks(fontsize=13, color='midnightblue')\n",
    "plt.xlabel('Room Type', size = 18, color='midnightblue')\n",
    "plt.ylabel('Number of reviews', size = 17 , color='midnightblue')\n",
    "plt.show()"
   ]
  },
  {
   "cell_type": "code",
   "execution_count": 45,
   "id": "1f80058b",
   "metadata": {
    "execution": {
     "iopub.execute_input": "2022-07-16T17:55:00.737803Z",
     "iopub.status.busy": "2022-07-16T17:55:00.737437Z",
     "iopub.status.idle": "2022-07-16T17:55:00.743587Z",
     "shell.execute_reply": "2022-07-16T17:55:00.742956Z"
    },
    "papermill": {
     "duration": 0.040436,
     "end_time": "2022-07-16T17:55:00.746782",
     "exception": false,
     "start_time": "2022-07-16T17:55:00.706346",
     "status": "completed"
    },
    "tags": []
   },
   "outputs": [
    {
     "name": "stdout",
     "output_type": "stream",
     "text": [
      "New Town\n",
      "Southside\n",
      "nan\n",
      "Leith\n",
      "Old Town\n",
      "West End\n",
      "Haymarket\n",
      "Morningside\n",
      "Newington\n",
      "Marchmont\n",
      "Cannonmills\n",
      "Tollcross\n",
      "Bruntsfield\n",
      "Stockbridge\n"
     ]
    }
   ],
   "source": [
    "#List all unique room types\n",
    "for elem in air_data_listings['neighbourhood'].unique():\n",
    "    print(elem)"
   ]
  },
  {
   "cell_type": "markdown",
   "id": "c1cbe76a",
   "metadata": {
    "papermill": {
     "duration": 0.029461,
     "end_time": "2022-07-16T17:55:00.805684",
     "exception": false,
     "start_time": "2022-07-16T17:55:00.776223",
     "status": "completed"
    },
    "tags": []
   },
   "source": [
    "## Total Number of Reviews against Neighbourhoods"
   ]
  },
  {
   "cell_type": "code",
   "execution_count": 46,
   "id": "edb9ce86",
   "metadata": {
    "execution": {
     "iopub.execute_input": "2022-07-16T17:55:00.865803Z",
     "iopub.status.busy": "2022-07-16T17:55:00.865259Z",
     "iopub.status.idle": "2022-07-16T17:55:01.130281Z",
     "shell.execute_reply": "2022-07-16T17:55:01.128686Z"
    },
    "papermill": {
     "duration": 0.298401,
     "end_time": "2022-07-16T17:55:01.133090",
     "exception": false,
     "start_time": "2022-07-16T17:55:00.834689",
     "status": "completed"
    },
    "tags": []
   },
   "outputs": [
    {
     "data": {
      "text/plain": [
       "Text(0.5, 1.0, 'Total Number of Reviews against Neighbourhoods')"
      ]
     },
     "execution_count": 46,
     "metadata": {},
     "output_type": "execute_result"
    },
    {
     "data": {
      "image/png": "[encoded data removed]",
      "text/plain": [
       "<Figure size 1080x1080 with 1 Axes>"
      ]
     },
     "metadata": {
      "needs_background": "light"
     },
     "output_type": "display_data"
    }
   ],
   "source": [
    "data = air_data_listings\n",
    "pfa = data[['neighbourhood','number_of_reviews']].groupby(['neighbourhood']).sum().reset_index().sort_values('number_of_reviews', ascending = False)\n",
    "plt.figure(figsize = (15,15))\n",
    "sns.barplot(y = 'neighbourhood', x = 'number_of_reviews', data = pfa, palette = 'magma')\n",
    "plt.xlabel('Total Number of Reviews', size = 15, color='midnightblue')\n",
    "plt.ylabel('Neighbourhoods', size = 15, color='midnightblue')\n",
    "plt.xticks(color='midnightblue')\n",
    "plt.yticks(color='midnightblue')\n",
    "plt.title('Total Number of Reviews against Neighbourhoods', size = 15, color='midnightblue')"
   ]
  },
  {
   "cell_type": "code",
   "execution_count": 47,
   "id": "0e877ec8",
   "metadata": {
    "execution": {
     "iopub.execute_input": "2022-07-16T17:55:01.197757Z",
     "iopub.status.busy": "2022-07-16T17:55:01.197340Z",
     "iopub.status.idle": "2022-07-16T17:55:01.209157Z",
     "shell.execute_reply": "2022-07-16T17:55:01.208266Z"
    },
    "papermill": {
     "duration": 0.046772,
     "end_time": "2022-07-16T17:55:01.211275",
     "exception": false,
     "start_time": "2022-07-16T17:55:01.164503",
     "status": "completed"
    },
    "tags": []
   },
   "outputs": [],
   "source": [
    "data = air_data_listings\n",
    "city_df = data[['city','number_of_reviews']].groupby(['city']).sum().reset_index().sort_values('number_of_reviews', ascending = False)"
   ]
  },
  {
   "cell_type": "code",
   "execution_count": 48,
   "id": "f5a7909d",
   "metadata": {
    "execution": {
     "iopub.execute_input": "2022-07-16T17:55:01.274490Z",
     "iopub.status.busy": "2022-07-16T17:55:01.274008Z",
     "iopub.status.idle": "2022-07-16T17:55:01.343814Z",
     "shell.execute_reply": "2022-07-16T17:55:01.342208Z"
    },
    "papermill": {
     "duration": 0.103901,
     "end_time": "2022-07-16T17:55:01.345917",
     "exception": false,
     "start_time": "2022-07-16T17:55:01.242016",
     "status": "completed"
    },
    "tags": []
   },
   "outputs": [
    {
     "data": {
      "text/html": [
       "<div>                            <div id=\"1130d081-151e-4200-b3e4-ec824732eea5\" class=\"plotly-graph-div\" style=\"height:800px; width:100%;\"></div>            <script type=\"text/javascript\">                require([\"plotly\"], function(Plotly) {                    window.PLOTLYENV=window.PLOTLYENV || {};                                    if (document.getElementById(\"1130d081-151e-4200-b3e4-ec824732eea5\")) {                    Plotly.newPlot(                        \"1130d081-151e-4200-b3e4-ec824732eea5\",                        [{\"alignmentgroup\":\"True\",\"hovertemplate\":\"city=%{x}<br>number_of_reviews=%{marker.color}<extra></extra>\",\"legendgroup\":\"\",\"marker\":{\"color\":[489470,3017,684,604,576,445,360,316,247,211],\"coloraxis\":\"coloraxis\",\"pattern\":{\"shape\":\"\"}},\"name\":\"\",\"offsetgroup\":\"\",\"orientation\":\"v\",\"showlegend\":false,\"textposition\":\"auto\",\"x\":[\"Edinburgh\",\"Edinburgh \",\"Kirkliston\",\"Edinburgh, Scotland, GB\",\"Queensferry\",\"Edimburgo\",\"City of Edinburgh\",\"Currie\",\"Edinburgh Lothian\",\"South Queensferry\"],\"xaxis\":\"x\",\"y\":[489470,3017,684,604,576,445,360,316,247,211],\"yaxis\":\"y\",\"type\":\"bar\"}],                        {\"template\":{\"data\":{\"barpolar\":[{\"marker\":{\"line\":{\"color\":\"white\",\"width\":0.5},\"pattern\":{\"fillmode\":\"overlay\",\"size\":10,\"solidity\":0.2}},\"type\":\"barpolar\"}],\"bar\":[{\"error_x\":{\"color\":\"#2a3f5f\"},\"error_y\":{\"color\":\"#2a3f5f\"},\"marker\":{\"line\":{\"color\":\"white\",\"width\":0.5},\"pattern\":{\"fillmode\":\"overlay\",\"size\":10,\"solidity\":0.2}},\"type\":\"bar\"}],\"carpet\":[{\"aaxis\":{\"endlinecolor\":\"#2a3f5f\",\"gridcolor\":\"#C8D4E3\",\"linecolor\":\"#C8D4E3\",\"minorgridcolor\":\"#C8D4E3\",\"startlinecolor\":\"#2a3f5f\"},\"baxis\":{\"endlinecolor\":\"#2a3f5f\",\"gridcolor\":\"#C8D4E3\",\"linecolor\":\"#C8D4E3\",\"minorgridcolor\":\"#C8D4E3\",\"startlinecolor\":\"#2a3f5f\"},\"type\":\"carpet\"}],\"choropleth\":[{\"colorbar\":{\"outlinewidth\":0,\"ticks\":\"\"},\"type\":\"choropleth\"}],\"contourcarpet\":[{\"colorbar\":{\"outlinewidth\":0,\"ticks\":\"\"},\"type\":\"contourcarpet\"}],\"contour\":[{\"colorbar\":{\"outlinewidth\":0,\"ticks\":\"\"},\"colorscale\":[[0.0,\"#0d0887\"],[0.1111111111111111,\"#46039f\"],[0.2222222222222222,\"#7201a8\"],[0.3333333333333333,\"#9c179e\"],[0.4444444444444444,\"#bd3786\"],[0.5555555555555556,\"#d8576b\"],[0.6666666666666666,\"#ed7953\"],[0.7777777777777778,\"#fb9f3a\"],[0.8888888888888888,\"#fdca26\"],[1.0,\"#f0f921\"]],\"type\":\"contour\"}],\"heatmapgl\":[{\"colorbar\":{\"outlinewidth\":0,\"ticks\":\"\"},\"colorscale\":[[0.0,\"#0d0887\"],[0.1111111111111111,\"#46039f\"],[0.2222222222222222,\"#7201a8\"],[0.3333333333333333,\"#9c179e\"],[0.4444444444444444,\"#bd3786\"],[0.5555555555555556,\"#d8576b\"],[0.6666666666666666,\"#ed7953\"],[0.7777777777777778,\"#fb9f3a\"],[0.8888888888888888,\"#fdca26\"],[1.0,\"#f0f921\"]],\"type\":\"heatmapgl\"}],\"heatmap\":[{\"colorbar\":{\"outlinewidth\":0,\"ticks\":\"\"},\"colorscale\":[[0.0,\"#0d0887\"],[0.1111111111111111,\"#46039f\"],[0.2222222222222222,\"#7201a8\"],[0.3333333333333333,\"#9c179e\"],[0.4444444444444444,\"#bd3786\"],[0.5555555555555556,\"#d8576b\"],[0.6666666666666666,\"#ed7953\"],[0.7777777777777778,\"#fb9f3a\"],[0.8888888888888888,\"#fdca26\"],[1.0,\"#f0f921\"]],\"type\":\"heatmap\"}],\"histogram2dcontour\":[{\"colorbar\":{\"outlinewidth\":0,\"ticks\":\"\"},\"colorscale\":[[0.0,\"#0d0887\"],[0.1111111111111111,\"#46039f\"],[0.2222222222222222,\"#7201a8\"],[0.3333333333333333,\"#9c179e\"],[0.4444444444444444,\"#bd3786\"],[0.5555555555555556,\"#d8576b\"],[0.6666666666666666,\"#ed7953\"],[0.7777777777777778,\"#fb9f3a\"],[0.8888888888888888,\"#fdca26\"],[1.0,\"#f0f921\"]],\"type\":\"histogram2dcontour\"}],\"histogram2d\":[{\"colorbar\":{\"outlinewidth\":0,\"ticks\":\"\"},\"colorscale\":[[0.0,\"#0d0887\"],[0.1111111111111111,\"#46039f\"],[0.2222222222222222,\"#7201a8\"],[0.3333333333333333,\"#9c179e\"],[0.4444444444444444,\"#bd3786\"],[0.5555555555555556,\"#d8576b\"],[0.6666666666666666,\"#ed7953\"],[0.7777777777777778,\"#fb9f3a\"],[0.8888888888888888,\"#fdca26\"],[1.0,\"#f0f921\"]],\"type\":\"histogram2d\"}],\"histogram\":[{\"marker\":{\"pattern\":{\"fillmode\":\"overlay\",\"size\":10,\"solidity\":0.2}},\"type\":\"histogram\"}],\"mesh3d\":[{\"colorbar\":{\"outlinewidth\":0,\"ticks\":\"\"},\"type\":\"mesh3d\"}],\"parcoords\":[{\"line\":{\"colorbar\":{\"outlinewidth\":0,\"ticks\":\"\"}},\"type\":\"parcoords\"}],\"pie\":[{\"automargin\":true,\"type\":\"pie\"}],\"scatter3d\":[{\"line\":{\"colorbar\":{\"outlinewidth\":0,\"ticks\":\"\"}},\"marker\":{\"colorbar\":{\"outlinewidth\":0,\"ticks\":\"\"}},\"type\":\"scatter3d\"}],\"scattercarpet\":[{\"marker\":{\"colorbar\":{\"outlinewidth\":0,\"ticks\":\"\"}},\"type\":\"scattercarpet\"}],\"scattergeo\":[{\"marker\":{\"colorbar\":{\"outlinewidth\":0,\"ticks\":\"\"}},\"type\":\"scattergeo\"}],\"scattergl\":[{\"marker\":{\"colorbar\":{\"outlinewidth\":0,\"ticks\":\"\"}},\"type\":\"scattergl\"}],\"scattermapbox\":[{\"marker\":{\"colorbar\":{\"outlinewidth\":0,\"ticks\":\"\"}},\"type\":\"scattermapbox\"}],\"scatterpolargl\":[{\"marker\":{\"colorbar\":{\"outlinewidth\":0,\"ticks\":\"\"}},\"type\":\"scatterpolargl\"}],\"scatterpolar\":[{\"marker\":{\"colorbar\":{\"outlinewidth\":0,\"ticks\":\"\"}},\"type\":\"scatterpolar\"}],\"scatter\":[{\"fillpattern\":{\"fillmode\":\"overlay\",\"size\":10,\"solidity\":0.2},\"type\":\"scatter\"}],\"scatterternary\":[{\"marker\":{\"colorbar\":{\"outlinewidth\":0,\"ticks\":\"\"}},\"type\":\"scatterternary\"}],\"surface\":[{\"colorbar\":{\"outlinewidth\":0,\"ticks\":\"\"},\"colorscale\":[[0.0,\"#0d0887\"],[0.1111111111111111,\"#46039f\"],[0.2222222222222222,\"#7201a8\"],[0.3333333333333333,\"#9c179e\"],[0.4444444444444444,\"#bd3786\"],[0.5555555555555556,\"#d8576b\"],[0.6666666666666666,\"#ed7953\"],[0.7777777777777778,\"#fb9f3a\"],[0.8888888888888888,\"#fdca26\"],[1.0,\"#f0f921\"]],\"type\":\"surface\"}],\"table\":[{\"cells\":{\"fill\":{\"color\":\"#EBF0F8\"},\"line\":{\"color\":\"white\"}},\"header\":{\"fill\":{\"color\":\"#C8D4E3\"},\"line\":{\"color\":\"white\"}},\"type\":\"table\"}]},\"layout\":{\"annotationdefaults\":{\"arrowcolor\":\"#2a3f5f\",\"arrowhead\":0,\"arrowwidth\":1},\"autotypenumbers\":\"strict\",\"coloraxis\":{\"colorbar\":{\"outlinewidth\":0,\"ticks\":\"\"}},\"colorscale\":{\"diverging\":[[0,\"#8e0152\"],[0.1,\"#c51b7d\"],[0.2,\"#de77ae\"],[0.3,\"#f1b6da\"],[0.4,\"#fde0ef\"],[0.5,\"#f7f7f7\"],[0.6,\"#e6f5d0\"],[0.7,\"#b8e186\"],[0.8,\"#7fbc41\"],[0.9,\"#4d9221\"],[1,\"#276419\"]],\"sequential\":[[0.0,\"#0d0887\"],[0.1111111111111111,\"#46039f\"],[0.2222222222222222,\"#7201a8\"],[0.3333333333333333,\"#9c179e\"],[0.4444444444444444,\"#bd3786\"],[0.5555555555555556,\"#d8576b\"],[0.6666666666666666,\"#ed7953\"],[0.7777777777777778,\"#fb9f3a\"],[0.8888888888888888,\"#fdca26\"],[1.0,\"#f0f921\"]],\"sequentialminus\":[[0.0,\"#0d0887\"],[0.1111111111111111,\"#46039f\"],[0.2222222222222222,\"#7201a8\"],[0.3333333333333333,\"#9c179e\"],[0.4444444444444444,\"#bd3786\"],[0.5555555555555556,\"#d8576b\"],[0.6666666666666666,\"#ed7953\"],[0.7777777777777778,\"#fb9f3a\"],[0.8888888888888888,\"#fdca26\"],[1.0,\"#f0f921\"]]},\"colorway\":[\"#636efa\",\"#EF553B\",\"#00cc96\",\"#ab63fa\",\"#FFA15A\",\"#19d3f3\",\"#FF6692\",\"#B6E880\",\"#FF97FF\",\"#FECB52\"],\"font\":{\"color\":\"#2a3f5f\"},\"geo\":{\"bgcolor\":\"white\",\"lakecolor\":\"white\",\"landcolor\":\"white\",\"showlakes\":true,\"showland\":true,\"subunitcolor\":\"#C8D4E3\"},\"hoverlabel\":{\"align\":\"left\"},\"hovermode\":\"closest\",\"mapbox\":{\"style\":\"light\"},\"paper_bgcolor\":\"white\",\"plot_bgcolor\":\"white\",\"polar\":{\"angularaxis\":{\"gridcolor\":\"#EBF0F8\",\"linecolor\":\"#EBF0F8\",\"ticks\":\"\"},\"bgcolor\":\"white\",\"radialaxis\":{\"gridcolor\":\"#EBF0F8\",\"linecolor\":\"#EBF0F8\",\"ticks\":\"\"}},\"scene\":{\"xaxis\":{\"backgroundcolor\":\"white\",\"gridcolor\":\"#DFE8F3\",\"gridwidth\":2,\"linecolor\":\"#EBF0F8\",\"showbackground\":true,\"ticks\":\"\",\"zerolinecolor\":\"#EBF0F8\"},\"yaxis\":{\"backgroundcolor\":\"white\",\"gridcolor\":\"#DFE8F3\",\"gridwidth\":2,\"linecolor\":\"#EBF0F8\",\"showbackground\":true,\"ticks\":\"\",\"zerolinecolor\":\"#EBF0F8\"},\"zaxis\":{\"backgroundcolor\":\"white\",\"gridcolor\":\"#DFE8F3\",\"gridwidth\":2,\"linecolor\":\"#EBF0F8\",\"showbackground\":true,\"ticks\":\"\",\"zerolinecolor\":\"#EBF0F8\"}},\"shapedefaults\":{\"line\":{\"color\":\"#2a3f5f\"}},\"ternary\":{\"aaxis\":{\"gridcolor\":\"#DFE8F3\",\"linecolor\":\"#A2B1C6\",\"ticks\":\"\"},\"baxis\":{\"gridcolor\":\"#DFE8F3\",\"linecolor\":\"#A2B1C6\",\"ticks\":\"\"},\"bgcolor\":\"white\",\"caxis\":{\"gridcolor\":\"#DFE8F3\",\"linecolor\":\"#A2B1C6\",\"ticks\":\"\"}},\"title\":{\"x\":0.05},\"xaxis\":{\"automargin\":true,\"gridcolor\":\"#EBF0F8\",\"linecolor\":\"#EBF0F8\",\"ticks\":\"\",\"title\":{\"standoff\":15},\"zerolinecolor\":\"#EBF0F8\",\"zerolinewidth\":2},\"yaxis\":{\"automargin\":true,\"gridcolor\":\"#EBF0F8\",\"linecolor\":\"#EBF0F8\",\"ticks\":\"\",\"title\":{\"standoff\":15},\"zerolinecolor\":\"#EBF0F8\",\"zerolinewidth\":2}}},\"xaxis\":{\"anchor\":\"y\",\"domain\":[0.0,1.0],\"title\":{\"text\":\"city\"},\"rangeselector\":{\"font\":{\"size\":8}}},\"yaxis\":{\"anchor\":\"x\",\"domain\":[0.0,1.0],\"title\":{\"text\":\"number_of_reviews\"}},\"coloraxis\":{\"colorbar\":{\"title\":{\"text\":\"number_of_reviews\"}},\"colorscale\":[[0.0,\"#0d0887\"],[0.1111111111111111,\"#46039f\"],[0.2222222222222222,\"#7201a8\"],[0.3333333333333333,\"#9c179e\"],[0.4444444444444444,\"#bd3786\"],[0.5555555555555556,\"#d8576b\"],[0.6666666666666666,\"#ed7953\"],[0.7777777777777778,\"#fb9f3a\"],[0.8888888888888888,\"#fdca26\"],[1.0,\"#f0f921\"]]},\"legend\":{\"tracegroupgap\":0},\"title\":{\"text\":\"Top 10 Cities WRT Rating\"},\"barmode\":\"relative\",\"height\":800},                        {\"responsive\": true}                    ).then(function(){\n",
       "                            \n",
       "var gd = document.getElementById('1130d081-151e-4200-b3e4-ec824732eea5');\n",
       "var x = new MutationObserver(function (mutations, observer) {{\n",
       "        var display = window.getComputedStyle(gd).display;\n",
       "        if (!display || display === 'none') {{\n",
       "            console.log([gd, 'removed!']);\n",
       "            Plotly.purge(gd);\n",
       "            observer.disconnect();\n",
       "        }}\n",
       "}});\n",
       "\n",
       "// Listen for the removal of the full notebook cells\n",
       "var notebookContainer = gd.closest('#notebook-container');\n",
       "if (notebookContainer) {{\n",
       "    x.observe(notebookContainer, {childList: true});\n",
       "}}\n",
       "\n",
       "// Listen for the clearing of the current output cell\n",
       "var outputEl = gd.closest('.output');\n",
       "if (outputEl) {{\n",
       "    x.observe(outputEl, {childList: true});\n",
       "}}\n",
       "\n",
       "                        })                };                });            </script>        </div>"
      ]
     },
     "metadata": {},
     "output_type": "display_data"
    }
   ],
   "source": [
    "city_dfa = city_df.head(10)\n",
    "fig = px.bar(city_dfa, x='city', y='number_of_reviews', template = 'plotly_white', title='Top 10 Cities WRT Rating', color='number_of_reviews', height=800)\n",
    "fig.update_xaxes(rangeselector_font_size=8)\n",
    "fig.show()"
   ]
  },
  {
   "cell_type": "code",
   "execution_count": 49,
   "id": "5893dd5c",
   "metadata": {
    "execution": {
     "iopub.execute_input": "2022-07-16T17:55:01.391245Z",
     "iopub.status.busy": "2022-07-16T17:55:01.389942Z",
     "iopub.status.idle": "2022-07-16T17:55:01.401049Z",
     "shell.execute_reply": "2022-07-16T17:55:01.399524Z"
    },
    "papermill": {
     "duration": 0.03611,
     "end_time": "2022-07-16T17:55:01.403792",
     "exception": false,
     "start_time": "2022-07-16T17:55:01.367682",
     "status": "completed"
    },
    "tags": []
   },
   "outputs": [],
   "source": [
    "data = air_data_listings\n",
    "state_df = data[['state','number_of_reviews']].groupby(['state']).sum().reset_index().sort_values('number_of_reviews', ascending = False)"
   ]
  },
  {
   "cell_type": "code",
   "execution_count": 50,
   "id": "861c7043",
   "metadata": {
    "execution": {
     "iopub.execute_input": "2022-07-16T17:55:01.467465Z",
     "iopub.status.busy": "2022-07-16T17:55:01.467122Z",
     "iopub.status.idle": "2022-07-16T17:55:01.521302Z",
     "shell.execute_reply": "2022-07-16T17:55:01.520381Z"
    },
    "papermill": {
     "duration": 0.088109,
     "end_time": "2022-07-16T17:55:01.522976",
     "exception": false,
     "start_time": "2022-07-16T17:55:01.434867",
     "status": "completed"
    },
    "tags": []
   },
   "outputs": [
    {
     "data": {
      "text/html": [
       "<div>                            <div id=\"ad8a564e-a862-4577-b663-90ee1d6e6162\" class=\"plotly-graph-div\" style=\"height:800px; width:100%;\"></div>            <script type=\"text/javascript\">                require([\"plotly\"], function(Plotly) {                    window.PLOTLYENV=window.PLOTLYENV || {};                                    if (document.getElementById(\"ad8a564e-a862-4577-b663-90ee1d6e6162\")) {                    Plotly.newPlot(                        \"ad8a564e-a862-4577-b663-90ee1d6e6162\",                        [{\"alignmentgroup\":\"True\",\"hovertemplate\":\"state=%{x}<br>number_of_reviews=%{marker.color}<extra></extra>\",\"legendgroup\":\"\",\"marker\":{\"color\":[290475,16812,12589,8004,3528,924,544,523,371,349],\"coloraxis\":\"coloraxis\",\"pattern\":{\"shape\":\"\"}},\"name\":\"\",\"offsetgroup\":\"\",\"orientation\":\"v\",\"showlegend\":false,\"textposition\":\"auto\",\"x\":[\"Scotland\",\"City of Edinburgh\",\"Midlothian\",\"Edinburgh\",\"Lothian\",\"Edinburgh City\",\"Mid Lothian\",\"midlothian\",\"East Lothian\",\"Lothain\"],\"xaxis\":\"x\",\"y\":[290475,16812,12589,8004,3528,924,544,523,371,349],\"yaxis\":\"y\",\"type\":\"bar\"}],                        {\"template\":{\"data\":{\"barpolar\":[{\"marker\":{\"line\":{\"color\":\"white\",\"width\":0.5},\"pattern\":{\"fillmode\":\"overlay\",\"size\":10,\"solidity\":0.2}},\"type\":\"barpolar\"}],\"bar\":[{\"error_x\":{\"color\":\"#2a3f5f\"},\"error_y\":{\"color\":\"#2a3f5f\"},\"marker\":{\"line\":{\"color\":\"white\",\"width\":0.5},\"pattern\":{\"fillmode\":\"overlay\",\"size\":10,\"solidity\":0.2}},\"type\":\"bar\"}],\"carpet\":[{\"aaxis\":{\"endlinecolor\":\"#2a3f5f\",\"gridcolor\":\"#C8D4E3\",\"linecolor\":\"#C8D4E3\",\"minorgridcolor\":\"#C8D4E3\",\"startlinecolor\":\"#2a3f5f\"},\"baxis\":{\"endlinecolor\":\"#2a3f5f\",\"gridcolor\":\"#C8D4E3\",\"linecolor\":\"#C8D4E3\",\"minorgridcolor\":\"#C8D4E3\",\"startlinecolor\":\"#2a3f5f\"},\"type\":\"carpet\"}],\"choropleth\":[{\"colorbar\":{\"outlinewidth\":0,\"ticks\":\"\"},\"type\":\"choropleth\"}],\"contourcarpet\":[{\"colorbar\":{\"outlinewidth\":0,\"ticks\":\"\"},\"type\":\"contourcarpet\"}],\"contour\":[{\"colorbar\":{\"outlinewidth\":0,\"ticks\":\"\"},\"colorscale\":[[0.0,\"#0d0887\"],[0.1111111111111111,\"#46039f\"],[0.2222222222222222,\"#7201a8\"],[0.3333333333333333,\"#9c179e\"],[0.4444444444444444,\"#bd3786\"],[0.5555555555555556,\"#d8576b\"],[0.6666666666666666,\"#ed7953\"],[0.7777777777777778,\"#fb9f3a\"],[0.8888888888888888,\"#fdca26\"],[1.0,\"#f0f921\"]],\"type\":\"contour\"}],\"heatmapgl\":[{\"colorbar\":{\"outlinewidth\":0,\"ticks\":\"\"},\"colorscale\":[[0.0,\"#0d0887\"],[0.1111111111111111,\"#46039f\"],[0.2222222222222222,\"#7201a8\"],[0.3333333333333333,\"#9c179e\"],[0.4444444444444444,\"#bd3786\"],[0.5555555555555556,\"#d8576b\"],[0.6666666666666666,\"#ed7953\"],[0.7777777777777778,\"#fb9f3a\"],[0.8888888888888888,\"#fdca26\"],[1.0,\"#f0f921\"]],\"type\":\"heatmapgl\"}],\"heatmap\":[{\"colorbar\":{\"outlinewidth\":0,\"ticks\":\"\"},\"colorscale\":[[0.0,\"#0d0887\"],[0.1111111111111111,\"#46039f\"],[0.2222222222222222,\"#7201a8\"],[0.3333333333333333,\"#9c179e\"],[0.4444444444444444,\"#bd3786\"],[0.5555555555555556,\"#d8576b\"],[0.6666666666666666,\"#ed7953\"],[0.7777777777777778,\"#fb9f3a\"],[0.8888888888888888,\"#fdca26\"],[1.0,\"#f0f921\"]],\"type\":\"heatmap\"}],\"histogram2dcontour\":[{\"colorbar\":{\"outlinewidth\":0,\"ticks\":\"\"},\"colorscale\":[[0.0,\"#0d0887\"],[0.1111111111111111,\"#46039f\"],[0.2222222222222222,\"#7201a8\"],[0.3333333333333333,\"#9c179e\"],[0.4444444444444444,\"#bd3786\"],[0.5555555555555556,\"#d8576b\"],[0.6666666666666666,\"#ed7953\"],[0.7777777777777778,\"#fb9f3a\"],[0.8888888888888888,\"#fdca26\"],[1.0,\"#f0f921\"]],\"type\":\"histogram2dcontour\"}],\"histogram2d\":[{\"colorbar\":{\"outlinewidth\":0,\"ticks\":\"\"},\"colorscale\":[[0.0,\"#0d0887\"],[0.1111111111111111,\"#46039f\"],[0.2222222222222222,\"#7201a8\"],[0.3333333333333333,\"#9c179e\"],[0.4444444444444444,\"#bd3786\"],[0.5555555555555556,\"#d8576b\"],[0.6666666666666666,\"#ed7953\"],[0.7777777777777778,\"#fb9f3a\"],[0.8888888888888888,\"#fdca26\"],[1.0,\"#f0f921\"]],\"type\":\"histogram2d\"}],\"histogram\":[{\"marker\":{\"pattern\":{\"fillmode\":\"overlay\",\"size\":10,\"solidity\":0.2}},\"type\":\"histogram\"}],\"mesh3d\":[{\"colorbar\":{\"outlinewidth\":0,\"ticks\":\"\"},\"type\":\"mesh3d\"}],\"parcoords\":[{\"line\":{\"colorbar\":{\"outlinewidth\":0,\"ticks\":\"\"}},\"type\":\"parcoords\"}],\"pie\":[{\"automargin\":true,\"type\":\"pie\"}],\"scatter3d\":[{\"line\":{\"colorbar\":{\"outlinewidth\":0,\"ticks\":\"\"}},\"marker\":{\"colorbar\":{\"outlinewidth\":0,\"ticks\":\"\"}},\"type\":\"scatter3d\"}],\"scattercarpet\":[{\"marker\":{\"colorbar\":{\"outlinewidth\":0,\"ticks\":\"\"}},\"type\":\"scattercarpet\"}],\"scattergeo\":[{\"marker\":{\"colorbar\":{\"outlinewidth\":0,\"ticks\":\"\"}},\"type\":\"scattergeo\"}],\"scattergl\":[{\"marker\":{\"colorbar\":{\"outlinewidth\":0,\"ticks\":\"\"}},\"type\":\"scattergl\"}],\"scattermapbox\":[{\"marker\":{\"colorbar\":{\"outlinewidth\":0,\"ticks\":\"\"}},\"type\":\"scattermapbox\"}],\"scatterpolargl\":[{\"marker\":{\"colorbar\":{\"outlinewidth\":0,\"ticks\":\"\"}},\"type\":\"scatterpolargl\"}],\"scatterpolar\":[{\"marker\":{\"colorbar\":{\"outlinewidth\":0,\"ticks\":\"\"}},\"type\":\"scatterpolar\"}],\"scatter\":[{\"fillpattern\":{\"fillmode\":\"overlay\",\"size\":10,\"solidity\":0.2},\"type\":\"scatter\"}],\"scatterternary\":[{\"marker\":{\"colorbar\":{\"outlinewidth\":0,\"ticks\":\"\"}},\"type\":\"scatterternary\"}],\"surface\":[{\"colorbar\":{\"outlinewidth\":0,\"ticks\":\"\"},\"colorscale\":[[0.0,\"#0d0887\"],[0.1111111111111111,\"#46039f\"],[0.2222222222222222,\"#7201a8\"],[0.3333333333333333,\"#9c179e\"],[0.4444444444444444,\"#bd3786\"],[0.5555555555555556,\"#d8576b\"],[0.6666666666666666,\"#ed7953\"],[0.7777777777777778,\"#fb9f3a\"],[0.8888888888888888,\"#fdca26\"],[1.0,\"#f0f921\"]],\"type\":\"surface\"}],\"table\":[{\"cells\":{\"fill\":{\"color\":\"#EBF0F8\"},\"line\":{\"color\":\"white\"}},\"header\":{\"fill\":{\"color\":\"#C8D4E3\"},\"line\":{\"color\":\"white\"}},\"type\":\"table\"}]},\"layout\":{\"annotationdefaults\":{\"arrowcolor\":\"#2a3f5f\",\"arrowhead\":0,\"arrowwidth\":1},\"autotypenumbers\":\"strict\",\"coloraxis\":{\"colorbar\":{\"outlinewidth\":0,\"ticks\":\"\"}},\"colorscale\":{\"diverging\":[[0,\"#8e0152\"],[0.1,\"#c51b7d\"],[0.2,\"#de77ae\"],[0.3,\"#f1b6da\"],[0.4,\"#fde0ef\"],[0.5,\"#f7f7f7\"],[0.6,\"#e6f5d0\"],[0.7,\"#b8e186\"],[0.8,\"#7fbc41\"],[0.9,\"#4d9221\"],[1,\"#276419\"]],\"sequential\":[[0.0,\"#0d0887\"],[0.1111111111111111,\"#46039f\"],[0.2222222222222222,\"#7201a8\"],[0.3333333333333333,\"#9c179e\"],[0.4444444444444444,\"#bd3786\"],[0.5555555555555556,\"#d8576b\"],[0.6666666666666666,\"#ed7953\"],[0.7777777777777778,\"#fb9f3a\"],[0.8888888888888888,\"#fdca26\"],[1.0,\"#f0f921\"]],\"sequentialminus\":[[0.0,\"#0d0887\"],[0.1111111111111111,\"#46039f\"],[0.2222222222222222,\"#7201a8\"],[0.3333333333333333,\"#9c179e\"],[0.4444444444444444,\"#bd3786\"],[0.5555555555555556,\"#d8576b\"],[0.6666666666666666,\"#ed7953\"],[0.7777777777777778,\"#fb9f3a\"],[0.8888888888888888,\"#fdca26\"],[1.0,\"#f0f921\"]]},\"colorway\":[\"#636efa\",\"#EF553B\",\"#00cc96\",\"#ab63fa\",\"#FFA15A\",\"#19d3f3\",\"#FF6692\",\"#B6E880\",\"#FF97FF\",\"#FECB52\"],\"font\":{\"color\":\"#2a3f5f\"},\"geo\":{\"bgcolor\":\"white\",\"lakecolor\":\"white\",\"landcolor\":\"white\",\"showlakes\":true,\"showland\":true,\"subunitcolor\":\"#C8D4E3\"},\"hoverlabel\":{\"align\":\"left\"},\"hovermode\":\"closest\",\"mapbox\":{\"style\":\"light\"},\"paper_bgcolor\":\"white\",\"plot_bgcolor\":\"white\",\"polar\":{\"angularaxis\":{\"gridcolor\":\"#EBF0F8\",\"linecolor\":\"#EBF0F8\",\"ticks\":\"\"},\"bgcolor\":\"white\",\"radialaxis\":{\"gridcolor\":\"#EBF0F8\",\"linecolor\":\"#EBF0F8\",\"ticks\":\"\"}},\"scene\":{\"xaxis\":{\"backgroundcolor\":\"white\",\"gridcolor\":\"#DFE8F3\",\"gridwidth\":2,\"linecolor\":\"#EBF0F8\",\"showbackground\":true,\"ticks\":\"\",\"zerolinecolor\":\"#EBF0F8\"},\"yaxis\":{\"backgroundcolor\":\"white\",\"gridcolor\":\"#DFE8F3\",\"gridwidth\":2,\"linecolor\":\"#EBF0F8\",\"showbackground\":true,\"ticks\":\"\",\"zerolinecolor\":\"#EBF0F8\"},\"zaxis\":{\"backgroundcolor\":\"white\",\"gridcolor\":\"#DFE8F3\",\"gridwidth\":2,\"linecolor\":\"#EBF0F8\",\"showbackground\":true,\"ticks\":\"\",\"zerolinecolor\":\"#EBF0F8\"}},\"shapedefaults\":{\"line\":{\"color\":\"#2a3f5f\"}},\"ternary\":{\"aaxis\":{\"gridcolor\":\"#DFE8F3\",\"linecolor\":\"#A2B1C6\",\"ticks\":\"\"},\"baxis\":{\"gridcolor\":\"#DFE8F3\",\"linecolor\":\"#A2B1C6\",\"ticks\":\"\"},\"bgcolor\":\"white\",\"caxis\":{\"gridcolor\":\"#DFE8F3\",\"linecolor\":\"#A2B1C6\",\"ticks\":\"\"}},\"title\":{\"x\":0.05},\"xaxis\":{\"automargin\":true,\"gridcolor\":\"#EBF0F8\",\"linecolor\":\"#EBF0F8\",\"ticks\":\"\",\"title\":{\"standoff\":15},\"zerolinecolor\":\"#EBF0F8\",\"zerolinewidth\":2},\"yaxis\":{\"automargin\":true,\"gridcolor\":\"#EBF0F8\",\"linecolor\":\"#EBF0F8\",\"ticks\":\"\",\"title\":{\"standoff\":15},\"zerolinecolor\":\"#EBF0F8\",\"zerolinewidth\":2}}},\"xaxis\":{\"anchor\":\"y\",\"domain\":[0.0,1.0],\"title\":{\"text\":\"state\"},\"rangeselector\":{\"font\":{\"size\":8}}},\"yaxis\":{\"anchor\":\"x\",\"domain\":[0.0,1.0],\"title\":{\"text\":\"number_of_reviews\"}},\"coloraxis\":{\"colorbar\":{\"title\":{\"text\":\"number_of_reviews\"}},\"colorscale\":[[0.0,\"#0d0887\"],[0.1111111111111111,\"#46039f\"],[0.2222222222222222,\"#7201a8\"],[0.3333333333333333,\"#9c179e\"],[0.4444444444444444,\"#bd3786\"],[0.5555555555555556,\"#d8576b\"],[0.6666666666666666,\"#ed7953\"],[0.7777777777777778,\"#fb9f3a\"],[0.8888888888888888,\"#fdca26\"],[1.0,\"#f0f921\"]]},\"legend\":{\"tracegroupgap\":0},\"title\":{\"text\":\"Top 10 States WRT Rating\"},\"barmode\":\"relative\",\"height\":800},                        {\"responsive\": true}                    ).then(function(){\n",
       "                            \n",
       "var gd = document.getElementById('ad8a564e-a862-4577-b663-90ee1d6e6162');\n",
       "var x = new MutationObserver(function (mutations, observer) {{\n",
       "        var display = window.getComputedStyle(gd).display;\n",
       "        if (!display || display === 'none') {{\n",
       "            console.log([gd, 'removed!']);\n",
       "            Plotly.purge(gd);\n",
       "            observer.disconnect();\n",
       "        }}\n",
       "}});\n",
       "\n",
       "// Listen for the removal of the full notebook cells\n",
       "var notebookContainer = gd.closest('#notebook-container');\n",
       "if (notebookContainer) {{\n",
       "    x.observe(notebookContainer, {childList: true});\n",
       "}}\n",
       "\n",
       "// Listen for the clearing of the current output cell\n",
       "var outputEl = gd.closest('.output');\n",
       "if (outputEl) {{\n",
       "    x.observe(outputEl, {childList: true});\n",
       "}}\n",
       "\n",
       "                        })                };                });            </script>        </div>"
      ]
     },
     "metadata": {},
     "output_type": "display_data"
    }
   ],
   "source": [
    "state_dfa = state_df.head(10)\n",
    "fig = px.bar(state_dfa, x='state', y='number_of_reviews', template = 'plotly_white', title='Top 10 States WRT Rating', color='number_of_reviews', height=800)\n",
    "fig.update_xaxes(rangeselector_font_size=8)\n",
    "fig.show()"
   ]
  },
  {
   "cell_type": "markdown",
   "id": "58096aba",
   "metadata": {
    "papermill": {
     "duration": 0.020692,
     "end_time": "2022-07-16T17:55:01.564431",
     "exception": false,
     "start_time": "2022-07-16T17:55:01.543739",
     "status": "completed"
    },
    "tags": []
   },
   "source": [
    "<a id=\"6\"></a> \n",
    "# <b>6 <span style='color:#FE5F64'>|</span> To be Continued! </b>"
   ]
  },
  {
   "cell_type": "markdown",
   "id": "7a81b2a7",
   "metadata": {
    "papermill": {
     "duration": 0.020286,
     "end_time": "2022-07-16T17:55:01.605738",
     "exception": false,
     "start_time": "2022-07-16T17:55:01.585452",
     "status": "completed"
    },
    "tags": []
   },
   "source": [
    "<img src=\"https://images.unsplash.com/photo-1447968954315-3f0c44f7313c?ixlib=rb-1.2.1&ixid=MnwxMjA3fDB8MHxwaG90by1wYWdlfHx8fGVufDB8fHx8&auto=format&fit=crop&w=1074&q=80\" \n",
    "             style='border-radius:10px'>"
   ]
  }
 ],
 "metadata": {
  "kernelspec": {
   "display_name": "Python 3",
   "language": "python",
   "name": "python3"
  },
  "language_info": {
   "codemirror_mode": {
    "name": "ipython",
    "version": 3
   },
   "file_extension": ".py",
   "mimetype": "text/x-python",
   "name": "python",
   "nbconvert_exporter": "python",
   "pygments_lexer": "ipython3",
   "version": "3.7.12"
  },
  "papermill": {
   "default_parameters": {},
   "duration": 91.733742,
   "end_time": "2022-07-16T17:55:02.949990",
   "environment_variables": {},
   "exception": null,
   "input_path": "__notebook__.ipynb",
   "output_path": "__notebook__.ipynb",
   "parameters": {},
   "start_time": "2022-07-16T17:53:31.216248",
   "version": "2.3.4"
  }
 },
 "nbformat": 4,
 "nbformat_minor": 5
}
